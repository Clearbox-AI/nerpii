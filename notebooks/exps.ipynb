{
 "cells": [
  {
   "cell_type": "code",
   "execution_count": 1,
   "metadata": {},
   "outputs": [
    {
     "name": "stderr",
     "output_type": "stream",
     "text": [
      "/home/clearbox/.cache/pypoetry/virtualenvs/clearbox-ner-if7onA3Z-py3.11/lib/python3.11/site-packages/tqdm/auto.py:22: TqdmWarning: IProgress not found. Please update jupyter and ipywidgets. See https://ipywidgets.readthedocs.io/en/stable/user_install.html\n",
      "  from .autonotebook import tqdm as notebook_tqdm\n"
     ]
    }
   ],
   "source": [
    "import pandas as pd\n",
    "import numpy as np\n",
    "\n",
    "from clearbox_ner.named_entity_recognizer import NamedEntityRecognizer, split_name\n",
    "from clearbox_ner.faker_generator import FakerGenerator"
   ]
  },
  {
   "cell_type": "code",
   "execution_count": 17,
   "metadata": {},
   "outputs": [],
   "source": [
    "df = pd.DataFrame({\n",
    "    'email': ['John@email.com.', 'Snow@email.com', 'frank@email.com'],\n",
    "    'city': [\"New York\", \"Chicago\", \"Phoenix\"],\n",
    "    'state': ['Washington', 'Florida', 'Texas'],\n",
    "    'university': ['University of London', 'University of Georgia', 'University of California'],\n",
    "    'person': ['George Bush', None, 'Hillary Clinton'],\n",
    "    'zipcode': ['10145', 'N11RG', '56178']\n",
    "    })\n"
   ]
  },
  {
   "cell_type": "code",
   "execution_count": 18,
   "metadata": {},
   "outputs": [],
   "source": [
    "df = split_name(df, 'person')"
   ]
  },
  {
   "cell_type": "code",
   "execution_count": 19,
   "metadata": {},
   "outputs": [],
   "source": [
    "recognizer = NamedEntityRecognizer(df)"
   ]
  },
  {
   "cell_type": "code",
   "execution_count": 20,
   "metadata": {},
   "outputs": [
    {
     "data": {
      "text/plain": [
       "[]"
      ]
     },
     "execution_count": 20,
     "metadata": {},
     "output_type": "execute_result"
    }
   ],
   "source": [
    "recognizer.assigned_entities_cols"
   ]
  },
  {
   "cell_type": "code",
   "execution_count": 23,
   "metadata": {},
   "outputs": [],
   "source": [
    "recognizer.assign_entities_with_presidio()\n",
    "recognizer.assign_entities_manually()\n",
    "recognizer.assign_organization_entity_with_model()"
   ]
  },
  {
   "cell_type": "code",
   "execution_count": 24,
   "metadata": {},
   "outputs": [
    {
     "data": {
      "text/plain": [
       "{'email': {'entity': 'EMAIL_ADDRESS', 'confidence_score': 1.0},\n",
       " 'city': {'entity': 'LOCATION', 'confidence_score': 1.0},\n",
       " 'state': {'entity': 'LOCATION', 'confidence_score': 1.0},\n",
       " 'university': {'entity': 'ORGANIZATION',\n",
       "  'confidence_score': 0.3333333333333333},\n",
       " 'zipcode': {'entity': 'ZIPCODE', 'confidence_score': 1.0},\n",
       " 'first_name': {'entity': 'PERSON', 'confidence_score': 1.0},\n",
       " 'last_name': {'entity': 'PERSON', 'confidence_score': 1.0}}"
      ]
     },
     "execution_count": 24,
     "metadata": {},
     "output_type": "execute_result"
    }
   ],
   "source": [
    "recognizer.dict_global_entities"
   ]
  },
  {
   "cell_type": "code",
   "execution_count": 14,
   "metadata": {},
   "outputs": [],
   "source": [
    "faker = FakerGenerator(recognizer.dataset, recognizer.dict_global_entities)"
   ]
  },
  {
   "cell_type": "code",
   "execution_count": 15,
   "metadata": {},
   "outputs": [
    {
     "name": "stdout",
     "output_type": "stream",
     "text": [
      "Column \u001b[1;32memail\u001b[0m synthesized.\n",
      "Column \u001b[1;32mfirst_name\u001b[0m synthesized.\n",
      "Column \u001b[1;32mlast_name\u001b[0m synthesized.\n",
      "Column \u001b[1;32mcity\u001b[0m synthesized.\n",
      "Column \u001b[1;32mstate\u001b[0m synthesized.\n",
      "Column \u001b[1;32mzipcode\u001b[0m synthesized.\n",
      "Column \u001b[1;31muniversity\u001b[0m not synthesized.\n"
     ]
    }
   ],
   "source": [
    "faker.get_faker_generation()\n"
   ]
  },
  {
   "cell_type": "code",
   "execution_count": 16,
   "metadata": {},
   "outputs": [
    {
     "data": {
      "text/html": [
       "<div>\n",
       "<style scoped>\n",
       "    .dataframe tbody tr th:only-of-type {\n",
       "        vertical-align: middle;\n",
       "    }\n",
       "\n",
       "    .dataframe tbody tr th {\n",
       "        vertical-align: top;\n",
       "    }\n",
       "\n",
       "    .dataframe thead th {\n",
       "        text-align: right;\n",
       "    }\n",
       "</style>\n",
       "<table border=\"1\" class=\"dataframe\">\n",
       "  <thead>\n",
       "    <tr style=\"text-align: right;\">\n",
       "      <th></th>\n",
       "      <th>email</th>\n",
       "      <th>city</th>\n",
       "      <th>state</th>\n",
       "      <th>university</th>\n",
       "      <th>zipcode</th>\n",
       "      <th>first_name</th>\n",
       "      <th>last_name</th>\n",
       "      <th>first_name_gender</th>\n",
       "    </tr>\n",
       "  </thead>\n",
       "  <tbody>\n",
       "    <tr>\n",
       "      <th>1</th>\n",
       "      <td>jasonpruitt@yahoo.com</td>\n",
       "      <td>South Hannah</td>\n",
       "      <td>Utah</td>\n",
       "      <td>University of Georgia</td>\n",
       "      <td>65241</td>\n",
       "      <td>Nicholas</td>\n",
       "      <td>Flores</td>\n",
       "      <td>male</td>\n",
       "    </tr>\n",
       "    <tr>\n",
       "      <th>0</th>\n",
       "      <td>ztaylor@yahoo.com</td>\n",
       "      <td>South Paulashire</td>\n",
       "      <td>Kentucky</td>\n",
       "      <td>University of London</td>\n",
       "      <td>06030</td>\n",
       "      <td>Kevin</td>\n",
       "      <td>Taylor</td>\n",
       "      <td>unknown</td>\n",
       "    </tr>\n",
       "    <tr>\n",
       "      <th>2</th>\n",
       "      <td>gailconley@gmail.com</td>\n",
       "      <td>Martinezfurt</td>\n",
       "      <td>Mississippi</td>\n",
       "      <td>University of California</td>\n",
       "      <td>65629</td>\n",
       "      <td>Kelly</td>\n",
       "      <td>Melton</td>\n",
       "      <td>female</td>\n",
       "    </tr>\n",
       "  </tbody>\n",
       "</table>\n",
       "</div>"
      ],
      "text/plain": [
       "                   email              city        state  \\\n",
       "1  jasonpruitt@yahoo.com      South Hannah         Utah   \n",
       "0      ztaylor@yahoo.com  South Paulashire     Kentucky   \n",
       "2   gailconley@gmail.com      Martinezfurt  Mississippi   \n",
       "\n",
       "                 university zipcode first_name last_name first_name_gender  \n",
       "1     University of Georgia   65241   Nicholas    Flores              male  \n",
       "0      University of London   06030      Kevin    Taylor           unknown  \n",
       "2  University of California   65629      Kelly    Melton            female  "
      ]
     },
     "execution_count": 16,
     "metadata": {},
     "output_type": "execute_result"
    }
   ],
   "source": [
    "faker.dataset"
   ]
  },
  {
   "cell_type": "code",
   "execution_count": null,
   "metadata": {},
   "outputs": [],
   "source": []
  }
 ],
 "metadata": {
  "kernelspec": {
   "display_name": "clearbox-ner-if7onA3Z-py3.11",
   "language": "python",
   "name": "python3"
  },
  "language_info": {
   "codemirror_mode": {
    "name": "ipython",
    "version": 3
   },
   "file_extension": ".py",
   "mimetype": "text/x-python",
   "name": "python",
   "nbconvert_exporter": "python",
   "pygments_lexer": "ipython3",
   "version": "3.11.0"
  },
  "orig_nbformat": 4,
  "vscode": {
   "interpreter": {
    "hash": "cb205a8e39bc3128f5bd1fd63a24129c25439e1349d0cf16364c064612f0cda2"
   }
  }
 },
 "nbformat": 4,
 "nbformat_minor": 2
}
