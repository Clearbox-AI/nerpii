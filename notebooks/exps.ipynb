{
 "cells": [
  {
   "cell_type": "code",
   "execution_count": 1,
   "metadata": {},
   "outputs": [
    {
     "name": "stderr",
     "output_type": "stream",
     "text": [
      "/home/clearbox/.cache/pypoetry/virtualenvs/clearbox-ner-if7onA3Z-py3.11/lib/python3.11/site-packages/tqdm/auto.py:22: TqdmWarning: IProgress not found. Please update jupyter and ipywidgets. See https://ipywidgets.readthedocs.io/en/stable/user_install.html\n",
      "  from .autonotebook import tqdm as notebook_tqdm\n"
     ]
    }
   ],
   "source": [
    "import pandas as pd\n",
    "import numpy as np\n",
    "\n",
    "from clearbox_ner.named_entity_recognizer import NamedEntityRecognizer, split_name, frequency\n",
    "from clearbox_ner.faker_generator import FakerGenerator"
   ]
  },
  {
   "cell_type": "code",
   "execution_count": null,
   "metadata": {},
   "outputs": [],
   "source": [
    "synth = pd.read_csv('dataset/PersonalInfo.csv')"
   ]
  },
  {
   "cell_type": "code",
   "execution_count": null,
   "metadata": {},
   "outputs": [],
   "source": [
    "synth"
   ]
  },
  {
   "cell_type": "code",
   "execution_count": null,
   "metadata": {},
   "outputs": [],
   "source": [
    "synth.info()"
   ]
  },
  {
   "cell_type": "code",
   "execution_count": null,
   "metadata": {},
   "outputs": [],
   "source": []
  },
  {
   "cell_type": "code",
   "execution_count": 31,
   "metadata": {},
   "outputs": [],
   "source": [
    "table_order = pd.read_csv('dataset/table_order.csv')"
   ]
  },
  {
   "cell_type": "code",
   "execution_count": 32,
   "metadata": {},
   "outputs": [],
   "source": [
    "recognizer = NamedEntityRecognizer(table_order)"
   ]
  },
  {
   "cell_type": "code",
   "execution_count": null,
   "metadata": {},
   "outputs": [],
   "source": [
    "recognizer.set_presidio_analyzer()"
   ]
  },
  {
   "cell_type": "code",
   "execution_count": null,
   "metadata": {},
   "outputs": [],
   "source": [
    "analyzer = recognizer.presidio_analyzer"
   ]
  },
  {
   "cell_type": "code",
   "execution_count": null,
   "metadata": {},
   "outputs": [],
   "source": [
    "recognizer.assign_entities_manually()"
   ]
  },
  {
   "cell_type": "code",
   "execution_count": null,
   "metadata": {},
   "outputs": [],
   "source": [
    "recognizer.assign_presidio_entities_list()"
   ]
  },
  {
   "cell_type": "code",
   "execution_count": null,
   "metadata": {},
   "outputs": [],
   "source": [
    "recognizer.assign_location_entity()"
   ]
  },
  {
   "cell_type": "code",
   "execution_count": null,
   "metadata": {},
   "outputs": [],
   "source": [
    "recognizer.assign_entities_and_score()"
   ]
  },
  {
   "cell_type": "code",
   "execution_count": null,
   "metadata": {},
   "outputs": [],
   "source": [
    "recognizer.set_model()"
   ]
  },
  {
   "cell_type": "code",
   "execution_count": null,
   "metadata": {},
   "outputs": [],
   "source": [
    "recognizer.assign_model_entities_list()"
   ]
  },
  {
   "cell_type": "code",
   "execution_count": null,
   "metadata": {},
   "outputs": [],
   "source": [
    "recognizer.assign_organization_entity()"
   ]
  },
  {
   "cell_type": "code",
   "execution_count": null,
   "metadata": {},
   "outputs": [],
   "source": [
    "recognizer.dict_global_entities"
   ]
  },
  {
   "cell_type": "code",
   "execution_count": null,
   "metadata": {},
   "outputs": [],
   "source": []
  },
  {
   "cell_type": "code",
   "execution_count": 2,
   "metadata": {},
   "outputs": [],
   "source": [
    "table_order = pd.read_csv('dataset/table_order.csv')"
   ]
  },
  {
   "cell_type": "code",
   "execution_count": 2,
   "metadata": {},
   "outputs": [
    {
     "ename": "NameError",
     "evalue": "name 'table_order' is not defined",
     "output_type": "error",
     "traceback": [
      "\u001b[0;31m---------------------------------------------------------------------------\u001b[0m",
      "\u001b[0;31mNameError\u001b[0m                                 Traceback (most recent call last)",
      "Cell \u001b[0;32mIn[2], line 1\u001b[0m\n\u001b[0;32m----> 1\u001b[0m recognizer \u001b[39m=\u001b[39m NamedEntityRecognizer(table_order)\n",
      "\u001b[0;31mNameError\u001b[0m: name 'table_order' is not defined"
     ]
    }
   ],
   "source": [
    "recognizer = NamedEntityRecognizer(table_order)"
   ]
  },
  {
   "cell_type": "code",
   "execution_count": 4,
   "metadata": {},
   "outputs": [],
   "source": [
    "recognizer.assign_entities_with_presidio()\n",
    "recognizer.assign_entities_manually()\n",
    "recognizer.assign_organization_entity_with_model()"
   ]
  },
  {
   "cell_type": "code",
   "execution_count": 5,
   "metadata": {},
   "outputs": [
    {
     "data": {
      "text/plain": [
       "{'orderNumber': None,\n",
       " 'productCode': None,\n",
       " 'quantityOrdered': None,\n",
       " 'priceEach': None,\n",
       " 'orderLineNumber': None,\n",
       " 'orderDate': {'entity': 'DATE_TIME', 'confidence_score': 1.0},\n",
       " 'requiredDate': {'entity': 'DATE_TIME', 'confidence_score': 1.0},\n",
       " 'shippedDate': {'entity': 'DATE_TIME', 'confidence_score': 1.0},\n",
       " 'status': None,\n",
       " 'comments': {'entity': 'ORGANIZATION',\n",
       "  'confidence_score': 0.33035714285714285},\n",
       " 'customerNumber': None,\n",
       " 'customerName': {'entity': 'ORGANIZATION',\n",
       "  'confidence_score': 0.17022086824067023},\n",
       " 'contactLastName': {'entity': 'PERSON',\n",
       "  'confidence_score': 0.9732824427480916},\n",
       " 'contactFirstName': {'entity': 'PERSON',\n",
       "  'confidence_score': 0.8991228070175439},\n",
       " 'phone': {'entity': 'PHONE_NUMBER', 'confidence_score': 0.8333333333333334},\n",
       " 'addressLine1': {'entity': 'ADDRESS', 'confidence_score': 0.8353658536585366},\n",
       " 'addressLine2': {'entity': 'ORGANIZATION',\n",
       "  'confidence_score': 0.2803738317757009},\n",
       " 'city': {'entity': 'LOCATION', 'confidence_score': 0.9116279069767442},\n",
       " 'state': {'entity': 'ORGANIZATION', 'confidence_score': 0.125},\n",
       " 'postalCode': {'entity': 'ZIPCODE', 'confidence_score': 1.0},\n",
       " 'country': {'entity': 'LOCATION', 'confidence_score': 1.0},\n",
       " 'salesRepEmployeeNumber': None,\n",
       " 'creditLimit': None,\n",
       " 'productName': None,\n",
       " 'productLine': None,\n",
       " 'productScale': None,\n",
       " 'productVendor': {'entity': 'ORGANIZATION',\n",
       "  'confidence_score': 0.14249843063402384},\n",
       " 'productDescription': None,\n",
       " 'quantityInStock': None,\n",
       " 'buyPrice': None,\n",
       " 'MSRP': None}"
      ]
     },
     "execution_count": 5,
     "metadata": {},
     "output_type": "execute_result"
    }
   ],
   "source": [
    "recognizer.dict_global_entities"
   ]
  },
  {
   "cell_type": "code",
   "execution_count": 2,
   "metadata": {},
   "outputs": [],
   "source": [
    "df = pd.DataFrame({\n",
    "    'email': ['John@email.com.', 'Snow@email.com', 'frank@email.com'],\n",
    "    'city': [\"New York\", \"Chicago\", \"Phoenix\"],\n",
    "    'state': ['Washington', 'Florida', 'Texas'],\n",
    "    'university': ['University of London', 'University of Georgia', 'University of California'],\n",
    "    'person': ['George Bush', None, 'Hillary Clinton'],\n",
    "    'zipcode': ['10145', 'N11RG', '56178']\n",
    "    })\n"
   ]
  },
  {
   "cell_type": "code",
   "execution_count": 3,
   "metadata": {},
   "outputs": [],
   "source": [
    "recognizer = NamedEntityRecognizer(df)"
   ]
  },
  {
   "cell_type": "code",
   "execution_count": 4,
   "metadata": {},
   "outputs": [
    {
     "data": {
      "text/plain": [
       "<spacy.lang.en.English at 0x7feaefb4b290>"
      ]
     },
     "execution_count": 4,
     "metadata": {},
     "output_type": "execute_result"
    }
   ],
   "source": [
    "recognizer.spacy_model"
   ]
  },
  {
   "cell_type": "code",
   "execution_count": 7,
   "metadata": {},
   "outputs": [
    {
     "data": {
      "text/html": [
       "<div>\n",
       "<style scoped>\n",
       "    .dataframe tbody tr th:only-of-type {\n",
       "        vertical-align: middle;\n",
       "    }\n",
       "\n",
       "    .dataframe tbody tr th {\n",
       "        vertical-align: top;\n",
       "    }\n",
       "\n",
       "    .dataframe thead th {\n",
       "        text-align: right;\n",
       "    }\n",
       "</style>\n",
       "<table border=\"1\" class=\"dataframe\">\n",
       "  <thead>\n",
       "    <tr style=\"text-align: right;\">\n",
       "      <th></th>\n",
       "      <th>email</th>\n",
       "      <th>city</th>\n",
       "      <th>state</th>\n",
       "      <th>university</th>\n",
       "      <th>person</th>\n",
       "      <th>zipcode</th>\n",
       "    </tr>\n",
       "  </thead>\n",
       "  <tbody>\n",
       "    <tr>\n",
       "      <th>1</th>\n",
       "      <td>Snow@email.com</td>\n",
       "      <td>Chicago</td>\n",
       "      <td>Florida</td>\n",
       "      <td>University of Georgia</td>\n",
       "      <td>?</td>\n",
       "      <td>N11RG</td>\n",
       "    </tr>\n",
       "    <tr>\n",
       "      <th>2</th>\n",
       "      <td>frank@email.com</td>\n",
       "      <td>Phoenix</td>\n",
       "      <td>Texas</td>\n",
       "      <td>University of California</td>\n",
       "      <td>Hillary Clinton</td>\n",
       "      <td>56178</td>\n",
       "    </tr>\n",
       "    <tr>\n",
       "      <th>0</th>\n",
       "      <td>John@email.com.</td>\n",
       "      <td>New York</td>\n",
       "      <td>Washington</td>\n",
       "      <td>University of London</td>\n",
       "      <td>George Bush</td>\n",
       "      <td>10145</td>\n",
       "    </tr>\n",
       "  </tbody>\n",
       "</table>\n",
       "</div>"
      ],
      "text/plain": [
       "             email      city       state                university  \\\n",
       "1   Snow@email.com   Chicago     Florida     University of Georgia   \n",
       "2  frank@email.com   Phoenix       Texas  University of California   \n",
       "0  John@email.com.  New York  Washington      University of London   \n",
       "\n",
       "            person zipcode  \n",
       "1                ?   N11RG  \n",
       "2  Hillary Clinton   56178  \n",
       "0      George Bush   10145  "
      ]
     },
     "execution_count": 7,
     "metadata": {},
     "output_type": "execute_result"
    }
   ],
   "source": [
    "recognizer.dataset"
   ]
  },
  {
   "cell_type": "code",
   "execution_count": 8,
   "metadata": {},
   "outputs": [],
   "source": [
    "recognizer.set_presidio_analyzer()\n",
    "recognizer.assign_presidio_entities_list()\n"
   ]
  },
  {
   "cell_type": "code",
   "execution_count": 15,
   "metadata": {},
   "outputs": [
    {
     "data": {
      "text/plain": [
       "{'email': ['EMAIL_ADDRESS', 'EMAIL_ADDRESS', 'EMAIL_ADDRESS'],\n",
       " 'city': ['LOCATION', 'LOCATION', 'LOCATION'],\n",
       " 'state': ['LOCATION', 'LOCATION', 'LOCATION'],\n",
       " 'university': None,\n",
       " 'person': ['PERSON', 'PERSON'],\n",
       " 'zipcode': None}"
      ]
     },
     "execution_count": 15,
     "metadata": {},
     "output_type": "execute_result"
    }
   ],
   "source": [
    "recognizer.dict_global_entities"
   ]
  },
  {
   "cell_type": "code",
   "execution_count": 7,
   "metadata": {},
   "outputs": [
    {
     "data": {
      "text/html": [
       "<div>\n",
       "<style scoped>\n",
       "    .dataframe tbody tr th:only-of-type {\n",
       "        vertical-align: middle;\n",
       "    }\n",
       "\n",
       "    .dataframe tbody tr th {\n",
       "        vertical-align: top;\n",
       "    }\n",
       "\n",
       "    .dataframe thead th {\n",
       "        text-align: right;\n",
       "    }\n",
       "</style>\n",
       "<table border=\"1\" class=\"dataframe\">\n",
       "  <thead>\n",
       "    <tr style=\"text-align: right;\">\n",
       "      <th></th>\n",
       "      <th>email</th>\n",
       "      <th>city</th>\n",
       "      <th>state</th>\n",
       "      <th>university</th>\n",
       "      <th>zipcode</th>\n",
       "      <th>phone number</th>\n",
       "      <th>address</th>\n",
       "      <th>url</th>\n",
       "      <th>credit card number</th>\n",
       "      <th>ssn</th>\n",
       "      <th>country</th>\n",
       "      <th>first_name</th>\n",
       "      <th>last_name</th>\n",
       "    </tr>\n",
       "  </thead>\n",
       "  <tbody>\n",
       "    <tr>\n",
       "      <th>0</th>\n",
       "      <td>John@email.com.</td>\n",
       "      <td>New York</td>\n",
       "      <td>Washigton</td>\n",
       "      <td>University of London</td>\n",
       "      <td>10145</td>\n",
       "      <td>5678-0987</td>\n",
       "      <td>Piazza Gae Aulenti 45</td>\n",
       "      <td>www.levante.com</td>\n",
       "      <td>5467-9765-0987-0000</td>\n",
       "      <td>865-50-6891</td>\n",
       "      <td>United Kingdom</td>\n",
       "      <td>George</td>\n",
       "      <td>Bush</td>\n",
       "    </tr>\n",
       "    <tr>\n",
       "      <th>1</th>\n",
       "      <td>Snow@email.com</td>\n",
       "      <td>Chicago</td>\n",
       "      <td>Rhode Island</td>\n",
       "      <td>University of Georgia</td>\n",
       "      <td>N11RG</td>\n",
       "      <td>1234-4321</td>\n",
       "      <td>171 Upper Street</td>\n",
       "      <td>www.amazon.it</td>\n",
       "      <td>1234-5678-9101</td>\n",
       "      <td>042-34-8377</td>\n",
       "      <td>Hungary</td>\n",
       "      <td>-</td>\n",
       "      <td>-</td>\n",
       "    </tr>\n",
       "    <tr>\n",
       "      <th>2</th>\n",
       "      <td>frank@email.com</td>\n",
       "      <td>Phoenix</td>\n",
       "      <td>Texas</td>\n",
       "      <td>University of California</td>\n",
       "      <td>56178</td>\n",
       "      <td>0987-1234</td>\n",
       "      <td>29, Russel Square</td>\n",
       "      <td>www.pandas.org</td>\n",
       "      <td>0987-6543-2109</td>\n",
       "      <td>498-52-4970</td>\n",
       "      <td>Italy</td>\n",
       "      <td>Hillary</td>\n",
       "      <td>Clinton</td>\n",
       "    </tr>\n",
       "  </tbody>\n",
       "</table>\n",
       "</div>"
      ],
      "text/plain": [
       "             email      city         state                university zipcode  \\\n",
       "0  John@email.com.  New York     Washigton      University of London   10145   \n",
       "1   Snow@email.com   Chicago  Rhode Island     University of Georgia   N11RG   \n",
       "2  frank@email.com   Phoenix         Texas  University of California   56178   \n",
       "\n",
       "  phone number                address              url   credit card number  \\\n",
       "0    5678-0987  Piazza Gae Aulenti 45  www.levante.com  5467-9765-0987-0000   \n",
       "1    1234-4321       171 Upper Street    www.amazon.it       1234-5678-9101   \n",
       "2    0987-1234      29, Russel Square   www.pandas.org       0987-6543-2109   \n",
       "\n",
       "           ssn         country first_name last_name  \n",
       "0  865-50-6891  United Kingdom     George      Bush  \n",
       "1  042-34-8377         Hungary          -         -  \n",
       "2  498-52-4970           Italy    Hillary   Clinton  "
      ]
     },
     "execution_count": 7,
     "metadata": {},
     "output_type": "execute_result"
    }
   ],
   "source": [
    "recognizer.dataset\n"
   ]
  },
  {
   "cell_type": "code",
   "execution_count": 5,
   "metadata": {},
   "outputs": [],
   "source": [
    "faker = FakerGenerator(recognizer.dataset, recognizer.dict_global_entities)"
   ]
  },
  {
   "cell_type": "code",
   "execution_count": 6,
   "metadata": {},
   "outputs": [
    {
     "data": {
      "text/plain": [
       "<spacy.lang.en.English at 0x7ff9cad47390>"
      ]
     },
     "execution_count": 6,
     "metadata": {},
     "output_type": "execute_result"
    }
   ],
   "source": [
    "faker.spacy_model"
   ]
  },
  {
   "cell_type": "code",
   "execution_count": 10,
   "metadata": {},
   "outputs": [
    {
     "ename": "TypeError",
     "evalue": "list indices must be integers or slices, not str",
     "output_type": "error",
     "traceback": [
      "\u001b[0;31m---------------------------------------------------------------------------\u001b[0m",
      "\u001b[0;31mTypeError\u001b[0m                                 Traceback (most recent call last)",
      "Cell \u001b[0;32mIn[10], line 1\u001b[0m\n\u001b[0;32m----> 1\u001b[0m faker\u001b[39m.\u001b[39;49mget_columns_with_assigned_entity()\n",
      "File \u001b[0;32m~/Documents/clearbox_repo/clearbox-ner/clearbox_ner/faker_generator.py:90\u001b[0m, in \u001b[0;36mFakerGenerator.get_columns_with_assigned_entity\u001b[0;34m(self)\u001b[0m\n\u001b[1;32m     84\u001b[0m \u001b[39m\u001b[39m\u001b[39m\"\"\"\u001b[39;00m\n\u001b[1;32m     85\u001b[0m \u001b[39mGet a list containing those columns with an assigned entity and confidence score > 0.3.\u001b[39;00m\n\u001b[1;32m     86\u001b[0m \n\u001b[1;32m     87\u001b[0m \u001b[39m\"\"\"\u001b[39;00m\n\u001b[1;32m     89\u001b[0m \u001b[39mif\u001b[39;00m \u001b[39mlen\u001b[39m(\u001b[39mself\u001b[39m\u001b[39m.\u001b[39mdict_global_entities) \u001b[39m>\u001b[39m \u001b[39m0\u001b[39m:\n\u001b[0;32m---> 90\u001b[0m     columns_with_assigned_entity \u001b[39m=\u001b[39m [[i, \u001b[39mself\u001b[39;49m\u001b[39m.\u001b[39;49mdict_global_entities[i][\u001b[39m'\u001b[39;49m\u001b[39mentity\u001b[39;49m\u001b[39m'\u001b[39;49m]] \u001b[39mfor\u001b[39;49;00m i \u001b[39min\u001b[39;49;00m \u001b[39mself\u001b[39;49m\u001b[39m.\u001b[39;49mdict_global_entities \u001b[39mif\u001b[39;49;00m \u001b[39mself\u001b[39;49m\u001b[39m.\u001b[39;49mdict_global_entities[i] \u001b[39mis\u001b[39;49;00m \u001b[39mnot\u001b[39;49;00m \u001b[39mNone\u001b[39;49;00m \u001b[39mand\u001b[39;49;00m \u001b[39mself\u001b[39;49m\u001b[39m.\u001b[39;49mdict_global_entities[i][\u001b[39m'\u001b[39;49m\u001b[39mconfidence_score\u001b[39;49m\u001b[39m'\u001b[39;49m] \u001b[39m>\u001b[39;49m \u001b[39m0.3\u001b[39;49m]\n\u001b[1;32m     91\u001b[0m     \u001b[39mself\u001b[39m\u001b[39m.\u001b[39mcolumns_not_synthesized \u001b[39m=\u001b[39m [[i, \u001b[39mself\u001b[39m\u001b[39m.\u001b[39mdict_global_entities[i][\u001b[39m'\u001b[39m\u001b[39mentity\u001b[39m\u001b[39m'\u001b[39m]] \u001b[39mfor\u001b[39;00m i \u001b[39min\u001b[39;00m \u001b[39mself\u001b[39m\u001b[39m.\u001b[39mdict_global_entities \u001b[39mif\u001b[39;00m \u001b[39mself\u001b[39m\u001b[39m.\u001b[39mdict_global_entities[i] \u001b[39mis\u001b[39;00m \u001b[39mnot\u001b[39;00m \u001b[39mNone\u001b[39;00m \u001b[39mand\u001b[39;00m \u001b[39mself\u001b[39m\u001b[39m.\u001b[39mdict_global_entities[i][\u001b[39m'\u001b[39m\u001b[39mconfidence_score\u001b[39m\u001b[39m'\u001b[39m] \u001b[39m<\u001b[39m\u001b[39m=\u001b[39m \u001b[39m0.3\u001b[39m \u001b[39mand\u001b[39;00m \u001b[39mnot\u001b[39;00m re\u001b[39m.\u001b[39mmatch(\u001b[39m'\u001b[39m\u001b[39m.*?last.*?name.*?\u001b[39m\u001b[39m'\u001b[39m, i\u001b[39m.\u001b[39mlower())]\n\u001b[1;32m     93\u001b[0m \u001b[39mif\u001b[39;00m \u001b[39mlen\u001b[39m(columns_with_assigned_entity) \u001b[39m>\u001b[39m \u001b[39m0\u001b[39m:\n",
      "File \u001b[0;32m~/Documents/clearbox_repo/clearbox-ner/clearbox_ner/faker_generator.py:90\u001b[0m, in \u001b[0;36m<listcomp>\u001b[0;34m(.0)\u001b[0m\n\u001b[1;32m     84\u001b[0m \u001b[39m\u001b[39m\u001b[39m\"\"\"\u001b[39;00m\n\u001b[1;32m     85\u001b[0m \u001b[39mGet a list containing those columns with an assigned entity and confidence score > 0.3.\u001b[39;00m\n\u001b[1;32m     86\u001b[0m \n\u001b[1;32m     87\u001b[0m \u001b[39m\"\"\"\u001b[39;00m\n\u001b[1;32m     89\u001b[0m \u001b[39mif\u001b[39;00m \u001b[39mlen\u001b[39m(\u001b[39mself\u001b[39m\u001b[39m.\u001b[39mdict_global_entities) \u001b[39m>\u001b[39m \u001b[39m0\u001b[39m:\n\u001b[0;32m---> 90\u001b[0m     columns_with_assigned_entity \u001b[39m=\u001b[39m [[i, \u001b[39mself\u001b[39m\u001b[39m.\u001b[39mdict_global_entities[i][\u001b[39m'\u001b[39m\u001b[39mentity\u001b[39m\u001b[39m'\u001b[39m]] \u001b[39mfor\u001b[39;00m i \u001b[39min\u001b[39;00m \u001b[39mself\u001b[39m\u001b[39m.\u001b[39mdict_global_entities \u001b[39mif\u001b[39;00m \u001b[39mself\u001b[39m\u001b[39m.\u001b[39mdict_global_entities[i] \u001b[39mis\u001b[39;00m \u001b[39mnot\u001b[39;00m \u001b[39mNone\u001b[39;00m \u001b[39mand\u001b[39;00m \u001b[39mself\u001b[39;49m\u001b[39m.\u001b[39;49mdict_global_entities[i][\u001b[39m'\u001b[39;49m\u001b[39mconfidence_score\u001b[39;49m\u001b[39m'\u001b[39;49m] \u001b[39m>\u001b[39m \u001b[39m0.3\u001b[39m]\n\u001b[1;32m     91\u001b[0m     \u001b[39mself\u001b[39m\u001b[39m.\u001b[39mcolumns_not_synthesized \u001b[39m=\u001b[39m [[i, \u001b[39mself\u001b[39m\u001b[39m.\u001b[39mdict_global_entities[i][\u001b[39m'\u001b[39m\u001b[39mentity\u001b[39m\u001b[39m'\u001b[39m]] \u001b[39mfor\u001b[39;00m i \u001b[39min\u001b[39;00m \u001b[39mself\u001b[39m\u001b[39m.\u001b[39mdict_global_entities \u001b[39mif\u001b[39;00m \u001b[39mself\u001b[39m\u001b[39m.\u001b[39mdict_global_entities[i] \u001b[39mis\u001b[39;00m \u001b[39mnot\u001b[39;00m \u001b[39mNone\u001b[39;00m \u001b[39mand\u001b[39;00m \u001b[39mself\u001b[39m\u001b[39m.\u001b[39mdict_global_entities[i][\u001b[39m'\u001b[39m\u001b[39mconfidence_score\u001b[39m\u001b[39m'\u001b[39m] \u001b[39m<\u001b[39m\u001b[39m=\u001b[39m \u001b[39m0.3\u001b[39m \u001b[39mand\u001b[39;00m \u001b[39mnot\u001b[39;00m re\u001b[39m.\u001b[39mmatch(\u001b[39m'\u001b[39m\u001b[39m.*?last.*?name.*?\u001b[39m\u001b[39m'\u001b[39m, i\u001b[39m.\u001b[39mlower())]\n\u001b[1;32m     93\u001b[0m \u001b[39mif\u001b[39;00m \u001b[39mlen\u001b[39m(columns_with_assigned_entity) \u001b[39m>\u001b[39m \u001b[39m0\u001b[39m:\n",
      "\u001b[0;31mTypeError\u001b[0m: list indices must be integers or slices, not str"
     ]
    }
   ],
   "source": [
    "faker.get_columns_with_assigned_entity()"
   ]
  },
  {
   "cell_type": "code",
   "execution_count": 52,
   "metadata": {},
   "outputs": [
    {
     "data": {
      "text/plain": [
       "[['email', 'EMAIL_ADDRESS'],\n",
       " ['city', 'LOCATION'],\n",
       " ['state', 'LOCATION'],\n",
       " ['university', 'ORGANIZATION'],\n",
       " ['zipcode', 'ZIPCODE'],\n",
       " ['phone number', 'PHONE_NUMBER'],\n",
       " ['address', 'ADDRESS'],\n",
       " ['url', 'URL'],\n",
       " ['credit card number', 'CREDIT_CARD_NUMBER'],\n",
       " ['ssn', 'US_SSN'],\n",
       " ['country', 'LOCATION'],\n",
       " ['first_name', 'PERSON'],\n",
       " ['last_name', 'PERSON']]"
      ]
     },
     "execution_count": 52,
     "metadata": {},
     "output_type": "execute_result"
    }
   ],
   "source": [
    "faker.columns_with_assigned_entity"
   ]
  },
  {
   "cell_type": "code",
   "execution_count": 46,
   "metadata": {},
   "outputs": [],
   "source": [
    "faker.get_first_name()\n"
   ]
  },
  {
   "cell_type": "code",
   "execution_count": 47,
   "metadata": {},
   "outputs": [
    {
     "data": {
      "text/html": [
       "<div>\n",
       "<style scoped>\n",
       "    .dataframe tbody tr th:only-of-type {\n",
       "        vertical-align: middle;\n",
       "    }\n",
       "\n",
       "    .dataframe tbody tr th {\n",
       "        vertical-align: top;\n",
       "    }\n",
       "\n",
       "    .dataframe thead th {\n",
       "        text-align: right;\n",
       "    }\n",
       "</style>\n",
       "<table border=\"1\" class=\"dataframe\">\n",
       "  <thead>\n",
       "    <tr style=\"text-align: right;\">\n",
       "      <th></th>\n",
       "      <th>email</th>\n",
       "      <th>city</th>\n",
       "      <th>state</th>\n",
       "      <th>university</th>\n",
       "      <th>zipcode</th>\n",
       "      <th>phone number</th>\n",
       "      <th>address</th>\n",
       "      <th>url</th>\n",
       "      <th>credit_card</th>\n",
       "      <th>ssn</th>\n",
       "      <th>country</th>\n",
       "      <th>first_name</th>\n",
       "      <th>last_name</th>\n",
       "      <th>first_name_gender</th>\n",
       "    </tr>\n",
       "  </thead>\n",
       "  <tbody>\n",
       "    <tr>\n",
       "      <th>2</th>\n",
       "      <td>frank@email.com</td>\n",
       "      <td>Phoenix</td>\n",
       "      <td>Texas</td>\n",
       "      <td>University of California</td>\n",
       "      <td>56178</td>\n",
       "      <td>0987-1234</td>\n",
       "      <td>29, Russel Square</td>\n",
       "      <td>www.pandas.org</td>\n",
       "      <td>0987-6543-2109</td>\n",
       "      <td>498-52-4970</td>\n",
       "      <td>Italy</td>\n",
       "      <td>Brett</td>\n",
       "      <td>Clinton</td>\n",
       "      <td>unknown</td>\n",
       "    </tr>\n",
       "    <tr>\n",
       "      <th>0</th>\n",
       "      <td>John@email.com.</td>\n",
       "      <td>New York</td>\n",
       "      <td>Washigton</td>\n",
       "      <td>University of London</td>\n",
       "      <td>10145</td>\n",
       "      <td>5678-0987</td>\n",
       "      <td>Piazza Gae Aulenti 45</td>\n",
       "      <td>www.levante.com</td>\n",
       "      <td>5467-9765-0987-0000</td>\n",
       "      <td>865-50-6891</td>\n",
       "      <td>United Kingdom</td>\n",
       "      <td>Mary</td>\n",
       "      <td>Bush</td>\n",
       "      <td>female</td>\n",
       "    </tr>\n",
       "    <tr>\n",
       "      <th>1</th>\n",
       "      <td>Snow@email.com</td>\n",
       "      <td>Chicago</td>\n",
       "      <td>Rhode Island</td>\n",
       "      <td>University of Georgia</td>\n",
       "      <td>N11RG</td>\n",
       "      <td>1234-4321</td>\n",
       "      <td>171 Upper Street</td>\n",
       "      <td>www.amazon.it</td>\n",
       "      <td>1234-5678-9101</td>\n",
       "      <td>042-34-8377</td>\n",
       "      <td>Hungary</td>\n",
       "      <td>John</td>\n",
       "      <td>-</td>\n",
       "      <td>male</td>\n",
       "    </tr>\n",
       "  </tbody>\n",
       "</table>\n",
       "</div>"
      ],
      "text/plain": [
       "             email      city         state                university zipcode  \\\n",
       "2  frank@email.com   Phoenix         Texas  University of California   56178   \n",
       "0  John@email.com.  New York     Washigton      University of London   10145   \n",
       "1   Snow@email.com   Chicago  Rhode Island     University of Georgia   N11RG   \n",
       "\n",
       "  phone number                address              url          credit_card  \\\n",
       "2    0987-1234      29, Russel Square   www.pandas.org       0987-6543-2109   \n",
       "0    5678-0987  Piazza Gae Aulenti 45  www.levante.com  5467-9765-0987-0000   \n",
       "1    1234-4321       171 Upper Street    www.amazon.it       1234-5678-9101   \n",
       "\n",
       "           ssn         country first_name last_name first_name_gender  \n",
       "2  498-52-4970           Italy      Brett   Clinton           unknown  \n",
       "0  865-50-6891  United Kingdom       Mary      Bush            female  \n",
       "1  042-34-8377         Hungary       John         -              male  "
      ]
     },
     "execution_count": 47,
     "metadata": {},
     "output_type": "execute_result"
    }
   ],
   "source": [
    "faker.dataset"
   ]
  },
  {
   "cell_type": "code",
   "execution_count": 48,
   "metadata": {},
   "outputs": [
    {
     "data": {
      "text/plain": [
       "True"
      ]
     },
     "execution_count": 48,
     "metadata": {},
     "output_type": "execute_result"
    }
   ],
   "source": [
    "len(faker.dataset['first_name_gender']) > 0"
   ]
  },
  {
   "cell_type": "code",
   "execution_count": null,
   "metadata": {},
   "outputs": [],
   "source": []
  }
 ],
 "metadata": {
  "kernelspec": {
   "display_name": "clearbox-ner-if7onA3Z-py3.11",
   "language": "python",
   "name": "python3"
  },
  "language_info": {
   "codemirror_mode": {
    "name": "ipython",
    "version": 3
   },
   "file_extension": ".py",
   "mimetype": "text/x-python",
   "name": "python",
   "nbconvert_exporter": "python",
   "pygments_lexer": "ipython3",
   "version": "3.11.0"
  },
  "orig_nbformat": 4,
  "vscode": {
   "interpreter": {
    "hash": "cb205a8e39bc3128f5bd1fd63a24129c25439e1349d0cf16364c064612f0cda2"
   }
  }
 },
 "nbformat": 4,
 "nbformat_minor": 2
}
