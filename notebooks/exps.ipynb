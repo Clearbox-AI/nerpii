{
 "cells": [
  {
   "cell_type": "code",
   "execution_count": 31,
   "metadata": {},
   "outputs": [],
   "source": [
    "import pandas as pd\n",
    "import numpy as np\n",
    "\n",
    "from clearbox_ner.named_entity_recognizer import NamedEntityRecognizer, split_name, frequency\n",
    "from clearbox_ner.faker_generator import FakerGenerator"
   ]
  },
  {
   "cell_type": "code",
   "execution_count": null,
   "metadata": {},
   "outputs": [],
   "source": [
    "synth = pd.read_csv('dataset/PersonalInfo.csv')"
   ]
  },
  {
   "cell_type": "code",
   "execution_count": null,
   "metadata": {},
   "outputs": [],
   "source": [
    "synth"
   ]
  },
  {
   "cell_type": "code",
   "execution_count": null,
   "metadata": {},
   "outputs": [],
   "source": [
    "synth.info()"
   ]
  },
  {
   "cell_type": "code",
   "execution_count": null,
   "metadata": {},
   "outputs": [],
   "source": []
  },
  {
   "cell_type": "code",
   "execution_count": 31,
   "metadata": {},
   "outputs": [],
   "source": [
    "table_order = pd.read_csv('dataset/table_order.csv')"
   ]
  },
  {
   "cell_type": "code",
   "execution_count": 32,
   "metadata": {},
   "outputs": [],
   "source": [
    "recognizer = NamedEntityRecognizer(table_order)"
   ]
  },
  {
   "cell_type": "code",
   "execution_count": null,
   "metadata": {},
   "outputs": [],
   "source": [
    "recognizer.set_presidio_analyzer()"
   ]
  },
  {
   "cell_type": "code",
   "execution_count": null,
   "metadata": {},
   "outputs": [],
   "source": [
    "analyzer = recognizer.presidio_analyzer"
   ]
  },
  {
   "cell_type": "code",
   "execution_count": null,
   "metadata": {},
   "outputs": [],
   "source": [
    "recognizer.assign_entities_manually()"
   ]
  },
  {
   "cell_type": "code",
   "execution_count": null,
   "metadata": {},
   "outputs": [],
   "source": [
    "recognizer.assign_presidio_entities_list()"
   ]
  },
  {
   "cell_type": "code",
   "execution_count": null,
   "metadata": {},
   "outputs": [],
   "source": [
    "recognizer.assign_location_entity()"
   ]
  },
  {
   "cell_type": "code",
   "execution_count": null,
   "metadata": {},
   "outputs": [],
   "source": [
    "recognizer.assign_entities_and_score()"
   ]
  },
  {
   "cell_type": "code",
   "execution_count": null,
   "metadata": {},
   "outputs": [],
   "source": [
    "recognizer.set_model()"
   ]
  },
  {
   "cell_type": "code",
   "execution_count": null,
   "metadata": {},
   "outputs": [],
   "source": [
    "recognizer.assign_model_entities_list()"
   ]
  },
  {
   "cell_type": "code",
   "execution_count": null,
   "metadata": {},
   "outputs": [],
   "source": [
    "recognizer.assign_organization_entity()"
   ]
  },
  {
   "cell_type": "code",
   "execution_count": null,
   "metadata": {},
   "outputs": [],
   "source": [
    "recognizer.dict_global_entities"
   ]
  },
  {
   "cell_type": "code",
   "execution_count": null,
   "metadata": {},
   "outputs": [],
   "source": []
  },
  {
   "cell_type": "code",
   "execution_count": 2,
   "metadata": {},
   "outputs": [],
   "source": [
    "table_order = pd.read_csv('dataset/table_order.csv')"
   ]
  },
  {
   "cell_type": "code",
   "execution_count": 3,
   "metadata": {},
   "outputs": [],
   "source": [
    "recognizer = NamedEntityRecognizer(table_order)"
   ]
  },
  {
   "cell_type": "code",
   "execution_count": 4,
   "metadata": {},
   "outputs": [],
   "source": [
    "recognizer.assign_entities_with_presidio()\n",
    "recognizer.assign_entities_manually()\n",
    "recognizer.assign_organization_entity_with_model()"
   ]
  },
  {
   "cell_type": "code",
   "execution_count": 5,
   "metadata": {},
   "outputs": [
    {
     "data": {
      "text/plain": [
       "{'orderNumber': None,\n",
       " 'productCode': None,\n",
       " 'quantityOrdered': None,\n",
       " 'priceEach': None,\n",
       " 'orderLineNumber': None,\n",
       " 'orderDate': {'entity': 'DATE_TIME', 'confidence_score': 1.0},\n",
       " 'requiredDate': {'entity': 'DATE_TIME', 'confidence_score': 1.0},\n",
       " 'shippedDate': {'entity': 'DATE_TIME', 'confidence_score': 1.0},\n",
       " 'status': None,\n",
       " 'comments': {'entity': 'ORGANIZATION',\n",
       "  'confidence_score': 0.33035714285714285},\n",
       " 'customerNumber': None,\n",
       " 'customerName': {'entity': 'ORGANIZATION',\n",
       "  'confidence_score': 0.17022086824067023},\n",
       " 'contactLastName': {'entity': 'PERSON',\n",
       "  'confidence_score': 0.9732824427480916},\n",
       " 'contactFirstName': {'entity': 'PERSON',\n",
       "  'confidence_score': 0.8991228070175439},\n",
       " 'phone': {'entity': 'PHONE_NUMBER', 'confidence_score': 0.8333333333333334},\n",
       " 'addressLine1': {'entity': 'ADDRESS', 'confidence_score': 0.8353658536585366},\n",
       " 'addressLine2': {'entity': 'ORGANIZATION',\n",
       "  'confidence_score': 0.2803738317757009},\n",
       " 'city': {'entity': 'LOCATION', 'confidence_score': 0.9116279069767442},\n",
       " 'state': {'entity': 'ORGANIZATION', 'confidence_score': 0.125},\n",
       " 'postalCode': {'entity': 'ZIPCODE', 'confidence_score': 1.0},\n",
       " 'country': {'entity': 'LOCATION', 'confidence_score': 1.0},\n",
       " 'salesRepEmployeeNumber': None,\n",
       " 'creditLimit': None,\n",
       " 'productName': None,\n",
       " 'productLine': None,\n",
       " 'productScale': None,\n",
       " 'productVendor': {'entity': 'ORGANIZATION',\n",
       "  'confidence_score': 0.14249843063402384},\n",
       " 'productDescription': None,\n",
       " 'quantityInStock': None,\n",
       " 'buyPrice': None,\n",
       " 'MSRP': None}"
      ]
     },
     "execution_count": 5,
     "metadata": {},
     "output_type": "execute_result"
    }
   ],
   "source": [
    "recognizer.dict_global_entities"
   ]
  },
  {
   "cell_type": "code",
   "execution_count": 66,
   "metadata": {},
   "outputs": [],
   "source": [
    "df = pd.DataFrame({\n",
    "    'email': ['John@email.com.', 'Snow@email.com', 'frank@email.com'],\n",
    "    'city': [\"New York\", \"Chicago\", \"Phoenix\"],\n",
    "    'state': ['Washigton', 'Rhode Island', 'Texas'],\n",
    "    'university': ['University of London', 'University of Georgia', 'University of California'],\n",
    "    'person': ['George Bush', None, 'Hillary Clinton'],\n",
    "    'zipcode': ['10145', 'N11RG', '56178']\n",
    "    })\n"
   ]
  },
  {
   "cell_type": "code",
   "execution_count": 67,
   "metadata": {},
   "outputs": [
    {
     "name": "stdout",
     "output_type": "stream",
     "text": [
      "Collecting en-core-web-lg==3.5.0\n",
      "  Downloading https://github.com/explosion/spacy-models/releases/download/en_core_web_lg-3.5.0/en_core_web_lg-3.5.0-py3-none-any.whl (587.7 MB)\n",
      "\u001b[2K     \u001b[90m━━━━━━━━━━━━━━━━━━━━━━━━━━━━━━━━━━━━━━━\u001b[0m \u001b[32m587.7/587.7 MB\u001b[0m \u001b[31m3.2 MB/s\u001b[0m eta \u001b[36m0:00:00\u001b[0m00:01\u001b[0m00:01\u001b[0m\n",
      "\u001b[?25hRequirement already satisfied: spacy<3.6.0,>=3.5.0 in /home/clearbox/.cache/pypoetry/virtualenvs/clearbox-ner-if7onA3Z-py3.11/lib/python3.11/site-packages (from en-core-web-lg==3.5.0) (3.5.0)\n",
      "Requirement already satisfied: spacy-legacy<3.1.0,>=3.0.11 in /home/clearbox/.cache/pypoetry/virtualenvs/clearbox-ner-if7onA3Z-py3.11/lib/python3.11/site-packages (from spacy<3.6.0,>=3.5.0->en-core-web-lg==3.5.0) (3.0.12)\n",
      "Requirement already satisfied: spacy-loggers<2.0.0,>=1.0.0 in /home/clearbox/.cache/pypoetry/virtualenvs/clearbox-ner-if7onA3Z-py3.11/lib/python3.11/site-packages (from spacy<3.6.0,>=3.5.0->en-core-web-lg==3.5.0) (1.0.4)\n",
      "Requirement already satisfied: murmurhash<1.1.0,>=0.28.0 in /home/clearbox/.cache/pypoetry/virtualenvs/clearbox-ner-if7onA3Z-py3.11/lib/python3.11/site-packages (from spacy<3.6.0,>=3.5.0->en-core-web-lg==3.5.0) (1.0.9)\n",
      "Requirement already satisfied: cymem<2.1.0,>=2.0.2 in /home/clearbox/.cache/pypoetry/virtualenvs/clearbox-ner-if7onA3Z-py3.11/lib/python3.11/site-packages (from spacy<3.6.0,>=3.5.0->en-core-web-lg==3.5.0) (2.0.7)\n",
      "Requirement already satisfied: preshed<3.1.0,>=3.0.2 in /home/clearbox/.cache/pypoetry/virtualenvs/clearbox-ner-if7onA3Z-py3.11/lib/python3.11/site-packages (from spacy<3.6.0,>=3.5.0->en-core-web-lg==3.5.0) (3.0.8)\n",
      "Requirement already satisfied: thinc<8.2.0,>=8.1.0 in /home/clearbox/.cache/pypoetry/virtualenvs/clearbox-ner-if7onA3Z-py3.11/lib/python3.11/site-packages (from spacy<3.6.0,>=3.5.0->en-core-web-lg==3.5.0) (8.1.7)\n",
      "Requirement already satisfied: wasabi<1.2.0,>=0.9.1 in /home/clearbox/.cache/pypoetry/virtualenvs/clearbox-ner-if7onA3Z-py3.11/lib/python3.11/site-packages (from spacy<3.6.0,>=3.5.0->en-core-web-lg==3.5.0) (1.1.1)\n",
      "Requirement already satisfied: srsly<3.0.0,>=2.4.3 in /home/clearbox/.cache/pypoetry/virtualenvs/clearbox-ner-if7onA3Z-py3.11/lib/python3.11/site-packages (from spacy<3.6.0,>=3.5.0->en-core-web-lg==3.5.0) (2.4.6)\n",
      "Requirement already satisfied: catalogue<2.1.0,>=2.0.6 in /home/clearbox/.cache/pypoetry/virtualenvs/clearbox-ner-if7onA3Z-py3.11/lib/python3.11/site-packages (from spacy<3.6.0,>=3.5.0->en-core-web-lg==3.5.0) (2.0.8)\n",
      "Requirement already satisfied: typer<0.8.0,>=0.3.0 in /home/clearbox/.cache/pypoetry/virtualenvs/clearbox-ner-if7onA3Z-py3.11/lib/python3.11/site-packages (from spacy<3.6.0,>=3.5.0->en-core-web-lg==3.5.0) (0.7.0)\n",
      "Requirement already satisfied: pathy>=0.10.0 in /home/clearbox/.cache/pypoetry/virtualenvs/clearbox-ner-if7onA3Z-py3.11/lib/python3.11/site-packages (from spacy<3.6.0,>=3.5.0->en-core-web-lg==3.5.0) (0.10.1)\n",
      "Requirement already satisfied: smart-open<7.0.0,>=5.2.1 in /home/clearbox/.cache/pypoetry/virtualenvs/clearbox-ner-if7onA3Z-py3.11/lib/python3.11/site-packages (from spacy<3.6.0,>=3.5.0->en-core-web-lg==3.5.0) (6.3.0)\n",
      "Requirement already satisfied: tqdm<5.0.0,>=4.38.0 in /home/clearbox/.cache/pypoetry/virtualenvs/clearbox-ner-if7onA3Z-py3.11/lib/python3.11/site-packages (from spacy<3.6.0,>=3.5.0->en-core-web-lg==3.5.0) (4.64.1)\n",
      "Requirement already satisfied: numpy>=1.15.0 in /home/clearbox/.cache/pypoetry/virtualenvs/clearbox-ner-if7onA3Z-py3.11/lib/python3.11/site-packages (from spacy<3.6.0,>=3.5.0->en-core-web-lg==3.5.0) (1.24.2)\n",
      "Requirement already satisfied: requests<3.0.0,>=2.13.0 in /home/clearbox/.cache/pypoetry/virtualenvs/clearbox-ner-if7onA3Z-py3.11/lib/python3.11/site-packages (from spacy<3.6.0,>=3.5.0->en-core-web-lg==3.5.0) (2.28.2)\n",
      "Requirement already satisfied: pydantic!=1.8,!=1.8.1,<1.11.0,>=1.7.4 in /home/clearbox/.cache/pypoetry/virtualenvs/clearbox-ner-if7onA3Z-py3.11/lib/python3.11/site-packages (from spacy<3.6.0,>=3.5.0->en-core-web-lg==3.5.0) (1.10.5)\n",
      "Requirement already satisfied: jinja2 in /home/clearbox/.cache/pypoetry/virtualenvs/clearbox-ner-if7onA3Z-py3.11/lib/python3.11/site-packages (from spacy<3.6.0,>=3.5.0->en-core-web-lg==3.5.0) (3.1.2)\n",
      "Requirement already satisfied: setuptools in /home/clearbox/.cache/pypoetry/virtualenvs/clearbox-ner-if7onA3Z-py3.11/lib/python3.11/site-packages (from spacy<3.6.0,>=3.5.0->en-core-web-lg==3.5.0) (67.4.0)\n",
      "Requirement already satisfied: packaging>=20.0 in /home/clearbox/.cache/pypoetry/virtualenvs/clearbox-ner-if7onA3Z-py3.11/lib/python3.11/site-packages (from spacy<3.6.0,>=3.5.0->en-core-web-lg==3.5.0) (23.0)\n",
      "Requirement already satisfied: langcodes<4.0.0,>=3.2.0 in /home/clearbox/.cache/pypoetry/virtualenvs/clearbox-ner-if7onA3Z-py3.11/lib/python3.11/site-packages (from spacy<3.6.0,>=3.5.0->en-core-web-lg==3.5.0) (3.3.0)\n",
      "Requirement already satisfied: typing-extensions>=4.2.0 in /home/clearbox/.cache/pypoetry/virtualenvs/clearbox-ner-if7onA3Z-py3.11/lib/python3.11/site-packages (from pydantic!=1.8,!=1.8.1,<1.11.0,>=1.7.4->spacy<3.6.0,>=3.5.0->en-core-web-lg==3.5.0) (4.5.0)\n",
      "Requirement already satisfied: charset-normalizer<4,>=2 in /home/clearbox/.cache/pypoetry/virtualenvs/clearbox-ner-if7onA3Z-py3.11/lib/python3.11/site-packages (from requests<3.0.0,>=2.13.0->spacy<3.6.0,>=3.5.0->en-core-web-lg==3.5.0) (3.0.1)\n",
      "Requirement already satisfied: idna<4,>=2.5 in /home/clearbox/.cache/pypoetry/virtualenvs/clearbox-ner-if7onA3Z-py3.11/lib/python3.11/site-packages (from requests<3.0.0,>=2.13.0->spacy<3.6.0,>=3.5.0->en-core-web-lg==3.5.0) (3.4)\n",
      "Requirement already satisfied: urllib3<1.27,>=1.21.1 in /home/clearbox/.cache/pypoetry/virtualenvs/clearbox-ner-if7onA3Z-py3.11/lib/python3.11/site-packages (from requests<3.0.0,>=2.13.0->spacy<3.6.0,>=3.5.0->en-core-web-lg==3.5.0) (1.26.14)\n",
      "Requirement already satisfied: certifi>=2017.4.17 in /home/clearbox/.cache/pypoetry/virtualenvs/clearbox-ner-if7onA3Z-py3.11/lib/python3.11/site-packages (from requests<3.0.0,>=2.13.0->spacy<3.6.0,>=3.5.0->en-core-web-lg==3.5.0) (2022.12.7)\n",
      "Requirement already satisfied: blis<0.8.0,>=0.7.8 in /home/clearbox/.cache/pypoetry/virtualenvs/clearbox-ner-if7onA3Z-py3.11/lib/python3.11/site-packages (from thinc<8.2.0,>=8.1.0->spacy<3.6.0,>=3.5.0->en-core-web-lg==3.5.0) (0.7.9)\n",
      "Requirement already satisfied: confection<1.0.0,>=0.0.1 in /home/clearbox/.cache/pypoetry/virtualenvs/clearbox-ner-if7onA3Z-py3.11/lib/python3.11/site-packages (from thinc<8.2.0,>=8.1.0->spacy<3.6.0,>=3.5.0->en-core-web-lg==3.5.0) (0.0.4)\n",
      "Requirement already satisfied: click<9.0.0,>=7.1.1 in /home/clearbox/.cache/pypoetry/virtualenvs/clearbox-ner-if7onA3Z-py3.11/lib/python3.11/site-packages (from typer<0.8.0,>=0.3.0->spacy<3.6.0,>=3.5.0->en-core-web-lg==3.5.0) (8.1.3)\n",
      "Requirement already satisfied: MarkupSafe>=2.0 in /home/clearbox/.cache/pypoetry/virtualenvs/clearbox-ner-if7onA3Z-py3.11/lib/python3.11/site-packages (from jinja2->spacy<3.6.0,>=3.5.0->en-core-web-lg==3.5.0) (2.1.2)\n",
      "\u001b[38;5;2m✔ Download and installation successful\u001b[0m\n",
      "You can now load the package via spacy.load('en_core_web_lg')\n"
     ]
    },
    {
     "name": "stderr",
     "output_type": "stream",
     "text": [
      "\n",
      "\u001b[1m[\u001b[0m\u001b[34;49mnotice\u001b[0m\u001b[1;39;49m]\u001b[0m\u001b[39;49m A new release of pip is available: \u001b[0m\u001b[31;49m23.0\u001b[0m\u001b[39;49m -> \u001b[0m\u001b[32;49m23.0.1\u001b[0m\n",
      "\u001b[1m[\u001b[0m\u001b[34;49mnotice\u001b[0m\u001b[1;39;49m]\u001b[0m\u001b[39;49m To update, run: \u001b[0m\u001b[32;49mpip install --upgrade pip\u001b[0m\n"
     ]
    }
   ],
   "source": [
    "recognizer = NamedEntityRecognizer(df)"
   ]
  },
  {
   "cell_type": "code",
   "execution_count": 68,
   "metadata": {},
   "outputs": [
    {
     "data": {
      "text/html": [
       "<div>\n",
       "<style scoped>\n",
       "    .dataframe tbody tr th:only-of-type {\n",
       "        vertical-align: middle;\n",
       "    }\n",
       "\n",
       "    .dataframe tbody tr th {\n",
       "        vertical-align: top;\n",
       "    }\n",
       "\n",
       "    .dataframe thead th {\n",
       "        text-align: right;\n",
       "    }\n",
       "</style>\n",
       "<table border=\"1\" class=\"dataframe\">\n",
       "  <thead>\n",
       "    <tr style=\"text-align: right;\">\n",
       "      <th></th>\n",
       "      <th>email</th>\n",
       "      <th>city</th>\n",
       "      <th>state</th>\n",
       "      <th>university</th>\n",
       "      <th>person</th>\n",
       "      <th>zipcode</th>\n",
       "    </tr>\n",
       "  </thead>\n",
       "  <tbody>\n",
       "    <tr>\n",
       "      <th>1</th>\n",
       "      <td>Snow@email.com</td>\n",
       "      <td>Chicago</td>\n",
       "      <td>Rhode Island</td>\n",
       "      <td>University of Georgia</td>\n",
       "      <td>?</td>\n",
       "      <td>N11RG</td>\n",
       "    </tr>\n",
       "    <tr>\n",
       "      <th>0</th>\n",
       "      <td>John@email.com.</td>\n",
       "      <td>New York</td>\n",
       "      <td>Washigton</td>\n",
       "      <td>University of London</td>\n",
       "      <td>George Bush</td>\n",
       "      <td>10145</td>\n",
       "    </tr>\n",
       "    <tr>\n",
       "      <th>2</th>\n",
       "      <td>frank@email.com</td>\n",
       "      <td>Phoenix</td>\n",
       "      <td>Texas</td>\n",
       "      <td>University of California</td>\n",
       "      <td>Hillary Clinton</td>\n",
       "      <td>56178</td>\n",
       "    </tr>\n",
       "  </tbody>\n",
       "</table>\n",
       "</div>"
      ],
      "text/plain": [
       "             email      city         state                university  \\\n",
       "1   Snow@email.com   Chicago  Rhode Island     University of Georgia   \n",
       "0  John@email.com.  New York     Washigton      University of London   \n",
       "2  frank@email.com   Phoenix         Texas  University of California   \n",
       "\n",
       "            person zipcode  \n",
       "1                ?   N11RG  \n",
       "0      George Bush   10145  \n",
       "2  Hillary Clinton   56178  "
      ]
     },
     "execution_count": 68,
     "metadata": {},
     "output_type": "execute_result"
    }
   ],
   "source": [
    "recognizer.dataset"
   ]
  },
  {
   "cell_type": "code",
   "execution_count": 69,
   "metadata": {},
   "outputs": [],
   "source": [
    "recognizer.set_presidio_analyzer()\n",
    "recognizer.assign_presidio_entities_list()\n",
    "recognizer.assign_entities_and_score()"
   ]
  },
  {
   "cell_type": "code",
   "execution_count": 71,
   "metadata": {},
   "outputs": [
    {
     "data": {
      "text/plain": [
       "{'email': {'entity': 'EMAIL_ADDRESS', 'confidence_score': 1.0},\n",
       " 'city': {'entity': 'LOCATION', 'confidence_score': 1.0},\n",
       " 'state': {'entity': 'LOCATION', 'confidence_score': 0.6666666666666666},\n",
       " 'university': None,\n",
       " 'person': {'entity': 'PERSON', 'confidence_score': 1.0},\n",
       " 'zipcode': None}"
      ]
     },
     "execution_count": 71,
     "metadata": {},
     "output_type": "execute_result"
    }
   ],
   "source": [
    "recognizer.dict_global_entities"
   ]
  },
  {
   "cell_type": "code",
   "execution_count": 7,
   "metadata": {},
   "outputs": [
    {
     "data": {
      "text/html": [
       "<div>\n",
       "<style scoped>\n",
       "    .dataframe tbody tr th:only-of-type {\n",
       "        vertical-align: middle;\n",
       "    }\n",
       "\n",
       "    .dataframe tbody tr th {\n",
       "        vertical-align: top;\n",
       "    }\n",
       "\n",
       "    .dataframe thead th {\n",
       "        text-align: right;\n",
       "    }\n",
       "</style>\n",
       "<table border=\"1\" class=\"dataframe\">\n",
       "  <thead>\n",
       "    <tr style=\"text-align: right;\">\n",
       "      <th></th>\n",
       "      <th>email</th>\n",
       "      <th>city</th>\n",
       "      <th>state</th>\n",
       "      <th>university</th>\n",
       "      <th>zipcode</th>\n",
       "      <th>phone number</th>\n",
       "      <th>address</th>\n",
       "      <th>url</th>\n",
       "      <th>credit card number</th>\n",
       "      <th>ssn</th>\n",
       "      <th>country</th>\n",
       "      <th>first_name</th>\n",
       "      <th>last_name</th>\n",
       "    </tr>\n",
       "  </thead>\n",
       "  <tbody>\n",
       "    <tr>\n",
       "      <th>0</th>\n",
       "      <td>John@email.com.</td>\n",
       "      <td>New York</td>\n",
       "      <td>Washigton</td>\n",
       "      <td>University of London</td>\n",
       "      <td>10145</td>\n",
       "      <td>5678-0987</td>\n",
       "      <td>Piazza Gae Aulenti 45</td>\n",
       "      <td>www.levante.com</td>\n",
       "      <td>5467-9765-0987-0000</td>\n",
       "      <td>865-50-6891</td>\n",
       "      <td>United Kingdom</td>\n",
       "      <td>George</td>\n",
       "      <td>Bush</td>\n",
       "    </tr>\n",
       "    <tr>\n",
       "      <th>1</th>\n",
       "      <td>Snow@email.com</td>\n",
       "      <td>Chicago</td>\n",
       "      <td>Rhode Island</td>\n",
       "      <td>University of Georgia</td>\n",
       "      <td>N11RG</td>\n",
       "      <td>1234-4321</td>\n",
       "      <td>171 Upper Street</td>\n",
       "      <td>www.amazon.it</td>\n",
       "      <td>1234-5678-9101</td>\n",
       "      <td>042-34-8377</td>\n",
       "      <td>Hungary</td>\n",
       "      <td>-</td>\n",
       "      <td>-</td>\n",
       "    </tr>\n",
       "    <tr>\n",
       "      <th>2</th>\n",
       "      <td>frank@email.com</td>\n",
       "      <td>Phoenix</td>\n",
       "      <td>Texas</td>\n",
       "      <td>University of California</td>\n",
       "      <td>56178</td>\n",
       "      <td>0987-1234</td>\n",
       "      <td>29, Russel Square</td>\n",
       "      <td>www.pandas.org</td>\n",
       "      <td>0987-6543-2109</td>\n",
       "      <td>498-52-4970</td>\n",
       "      <td>Italy</td>\n",
       "      <td>Hillary</td>\n",
       "      <td>Clinton</td>\n",
       "    </tr>\n",
       "  </tbody>\n",
       "</table>\n",
       "</div>"
      ],
      "text/plain": [
       "             email      city         state                university zipcode  \\\n",
       "0  John@email.com.  New York     Washigton      University of London   10145   \n",
       "1   Snow@email.com   Chicago  Rhode Island     University of Georgia   N11RG   \n",
       "2  frank@email.com   Phoenix         Texas  University of California   56178   \n",
       "\n",
       "  phone number                address              url   credit card number  \\\n",
       "0    5678-0987  Piazza Gae Aulenti 45  www.levante.com  5467-9765-0987-0000   \n",
       "1    1234-4321       171 Upper Street    www.amazon.it       1234-5678-9101   \n",
       "2    0987-1234      29, Russel Square   www.pandas.org       0987-6543-2109   \n",
       "\n",
       "           ssn         country first_name last_name  \n",
       "0  865-50-6891  United Kingdom     George      Bush  \n",
       "1  042-34-8377         Hungary          -         -  \n",
       "2  498-52-4970           Italy    Hillary   Clinton  "
      ]
     },
     "execution_count": 7,
     "metadata": {},
     "output_type": "execute_result"
    }
   ],
   "source": [
    "recognizer.dataset\n"
   ]
  },
  {
   "cell_type": "code",
   "execution_count": 7,
   "metadata": {},
   "outputs": [
    {
     "name": "stdout",
     "output_type": "stream",
     "text": [
      "Collecting en-core-web-lg==3.5.0\n",
      "  Downloading https://github.com/explosion/spacy-models/releases/download/en_core_web_lg-3.5.0/en_core_web_lg-3.5.0-py3-none-any.whl (587.7 MB)\n",
      "\u001b[2K     \u001b[90m━━━━━━━━━━━━━━━━━━━━━━━━━━━━━━━━━━━━━━━\u001b[0m \u001b[32m587.7/587.7 MB\u001b[0m \u001b[31m2.9 MB/s\u001b[0m eta \u001b[36m0:00:00\u001b[0m00:01\u001b[0m00:02\u001b[0m\n",
      "\u001b[?25hRequirement already satisfied: spacy<3.6.0,>=3.5.0 in /home/clearbox/.cache/pypoetry/virtualenvs/clearbox-ner-if7onA3Z-py3.11/lib/python3.11/site-packages (from en-core-web-lg==3.5.0) (3.5.0)\n",
      "Requirement already satisfied: spacy-legacy<3.1.0,>=3.0.11 in /home/clearbox/.cache/pypoetry/virtualenvs/clearbox-ner-if7onA3Z-py3.11/lib/python3.11/site-packages (from spacy<3.6.0,>=3.5.0->en-core-web-lg==3.5.0) (3.0.12)\n",
      "Requirement already satisfied: spacy-loggers<2.0.0,>=1.0.0 in /home/clearbox/.cache/pypoetry/virtualenvs/clearbox-ner-if7onA3Z-py3.11/lib/python3.11/site-packages (from spacy<3.6.0,>=3.5.0->en-core-web-lg==3.5.0) (1.0.4)\n",
      "Requirement already satisfied: murmurhash<1.1.0,>=0.28.0 in /home/clearbox/.cache/pypoetry/virtualenvs/clearbox-ner-if7onA3Z-py3.11/lib/python3.11/site-packages (from spacy<3.6.0,>=3.5.0->en-core-web-lg==3.5.0) (1.0.9)\n",
      "Requirement already satisfied: cymem<2.1.0,>=2.0.2 in /home/clearbox/.cache/pypoetry/virtualenvs/clearbox-ner-if7onA3Z-py3.11/lib/python3.11/site-packages (from spacy<3.6.0,>=3.5.0->en-core-web-lg==3.5.0) (2.0.7)\n",
      "Requirement already satisfied: preshed<3.1.0,>=3.0.2 in /home/clearbox/.cache/pypoetry/virtualenvs/clearbox-ner-if7onA3Z-py3.11/lib/python3.11/site-packages (from spacy<3.6.0,>=3.5.0->en-core-web-lg==3.5.0) (3.0.8)\n",
      "Requirement already satisfied: thinc<8.2.0,>=8.1.0 in /home/clearbox/.cache/pypoetry/virtualenvs/clearbox-ner-if7onA3Z-py3.11/lib/python3.11/site-packages (from spacy<3.6.0,>=3.5.0->en-core-web-lg==3.5.0) (8.1.7)\n",
      "Requirement already satisfied: wasabi<1.2.0,>=0.9.1 in /home/clearbox/.cache/pypoetry/virtualenvs/clearbox-ner-if7onA3Z-py3.11/lib/python3.11/site-packages (from spacy<3.6.0,>=3.5.0->en-core-web-lg==3.5.0) (1.1.1)\n",
      "Requirement already satisfied: srsly<3.0.0,>=2.4.3 in /home/clearbox/.cache/pypoetry/virtualenvs/clearbox-ner-if7onA3Z-py3.11/lib/python3.11/site-packages (from spacy<3.6.0,>=3.5.0->en-core-web-lg==3.5.0) (2.4.6)\n",
      "Requirement already satisfied: catalogue<2.1.0,>=2.0.6 in /home/clearbox/.cache/pypoetry/virtualenvs/clearbox-ner-if7onA3Z-py3.11/lib/python3.11/site-packages (from spacy<3.6.0,>=3.5.0->en-core-web-lg==3.5.0) (2.0.8)\n",
      "Requirement already satisfied: typer<0.8.0,>=0.3.0 in /home/clearbox/.cache/pypoetry/virtualenvs/clearbox-ner-if7onA3Z-py3.11/lib/python3.11/site-packages (from spacy<3.6.0,>=3.5.0->en-core-web-lg==3.5.0) (0.7.0)\n",
      "Requirement already satisfied: pathy>=0.10.0 in /home/clearbox/.cache/pypoetry/virtualenvs/clearbox-ner-if7onA3Z-py3.11/lib/python3.11/site-packages (from spacy<3.6.0,>=3.5.0->en-core-web-lg==3.5.0) (0.10.1)\n",
      "Requirement already satisfied: smart-open<7.0.0,>=5.2.1 in /home/clearbox/.cache/pypoetry/virtualenvs/clearbox-ner-if7onA3Z-py3.11/lib/python3.11/site-packages (from spacy<3.6.0,>=3.5.0->en-core-web-lg==3.5.0) (6.3.0)\n",
      "Requirement already satisfied: tqdm<5.0.0,>=4.38.0 in /home/clearbox/.cache/pypoetry/virtualenvs/clearbox-ner-if7onA3Z-py3.11/lib/python3.11/site-packages (from spacy<3.6.0,>=3.5.0->en-core-web-lg==3.5.0) (4.64.1)\n",
      "Requirement already satisfied: numpy>=1.15.0 in /home/clearbox/.cache/pypoetry/virtualenvs/clearbox-ner-if7onA3Z-py3.11/lib/python3.11/site-packages (from spacy<3.6.0,>=3.5.0->en-core-web-lg==3.5.0) (1.24.2)\n",
      "Requirement already satisfied: requests<3.0.0,>=2.13.0 in /home/clearbox/.cache/pypoetry/virtualenvs/clearbox-ner-if7onA3Z-py3.11/lib/python3.11/site-packages (from spacy<3.6.0,>=3.5.0->en-core-web-lg==3.5.0) (2.28.2)\n",
      "Requirement already satisfied: pydantic!=1.8,!=1.8.1,<1.11.0,>=1.7.4 in /home/clearbox/.cache/pypoetry/virtualenvs/clearbox-ner-if7onA3Z-py3.11/lib/python3.11/site-packages (from spacy<3.6.0,>=3.5.0->en-core-web-lg==3.5.0) (1.10.5)\n",
      "Requirement already satisfied: jinja2 in /home/clearbox/.cache/pypoetry/virtualenvs/clearbox-ner-if7onA3Z-py3.11/lib/python3.11/site-packages (from spacy<3.6.0,>=3.5.0->en-core-web-lg==3.5.0) (3.1.2)\n",
      "Requirement already satisfied: setuptools in /home/clearbox/.cache/pypoetry/virtualenvs/clearbox-ner-if7onA3Z-py3.11/lib/python3.11/site-packages (from spacy<3.6.0,>=3.5.0->en-core-web-lg==3.5.0) (67.4.0)\n",
      "Requirement already satisfied: packaging>=20.0 in /home/clearbox/.cache/pypoetry/virtualenvs/clearbox-ner-if7onA3Z-py3.11/lib/python3.11/site-packages (from spacy<3.6.0,>=3.5.0->en-core-web-lg==3.5.0) (23.0)\n",
      "Requirement already satisfied: langcodes<4.0.0,>=3.2.0 in /home/clearbox/.cache/pypoetry/virtualenvs/clearbox-ner-if7onA3Z-py3.11/lib/python3.11/site-packages (from spacy<3.6.0,>=3.5.0->en-core-web-lg==3.5.0) (3.3.0)\n",
      "Requirement already satisfied: typing-extensions>=4.2.0 in /home/clearbox/.cache/pypoetry/virtualenvs/clearbox-ner-if7onA3Z-py3.11/lib/python3.11/site-packages (from pydantic!=1.8,!=1.8.1,<1.11.0,>=1.7.4->spacy<3.6.0,>=3.5.0->en-core-web-lg==3.5.0) (4.5.0)\n",
      "Requirement already satisfied: charset-normalizer<4,>=2 in /home/clearbox/.cache/pypoetry/virtualenvs/clearbox-ner-if7onA3Z-py3.11/lib/python3.11/site-packages (from requests<3.0.0,>=2.13.0->spacy<3.6.0,>=3.5.0->en-core-web-lg==3.5.0) (3.0.1)\n",
      "Requirement already satisfied: idna<4,>=2.5 in /home/clearbox/.cache/pypoetry/virtualenvs/clearbox-ner-if7onA3Z-py3.11/lib/python3.11/site-packages (from requests<3.0.0,>=2.13.0->spacy<3.6.0,>=3.5.0->en-core-web-lg==3.5.0) (3.4)\n",
      "Requirement already satisfied: urllib3<1.27,>=1.21.1 in /home/clearbox/.cache/pypoetry/virtualenvs/clearbox-ner-if7onA3Z-py3.11/lib/python3.11/site-packages (from requests<3.0.0,>=2.13.0->spacy<3.6.0,>=3.5.0->en-core-web-lg==3.5.0) (1.26.14)\n",
      "Requirement already satisfied: certifi>=2017.4.17 in /home/clearbox/.cache/pypoetry/virtualenvs/clearbox-ner-if7onA3Z-py3.11/lib/python3.11/site-packages (from requests<3.0.0,>=2.13.0->spacy<3.6.0,>=3.5.0->en-core-web-lg==3.5.0) (2022.12.7)\n",
      "Requirement already satisfied: blis<0.8.0,>=0.7.8 in /home/clearbox/.cache/pypoetry/virtualenvs/clearbox-ner-if7onA3Z-py3.11/lib/python3.11/site-packages (from thinc<8.2.0,>=8.1.0->spacy<3.6.0,>=3.5.0->en-core-web-lg==3.5.0) (0.7.9)\n",
      "Requirement already satisfied: confection<1.0.0,>=0.0.1 in /home/clearbox/.cache/pypoetry/virtualenvs/clearbox-ner-if7onA3Z-py3.11/lib/python3.11/site-packages (from thinc<8.2.0,>=8.1.0->spacy<3.6.0,>=3.5.0->en-core-web-lg==3.5.0) (0.0.4)\n",
      "Requirement already satisfied: click<9.0.0,>=7.1.1 in /home/clearbox/.cache/pypoetry/virtualenvs/clearbox-ner-if7onA3Z-py3.11/lib/python3.11/site-packages (from typer<0.8.0,>=0.3.0->spacy<3.6.0,>=3.5.0->en-core-web-lg==3.5.0) (8.1.3)\n",
      "Requirement already satisfied: MarkupSafe>=2.0 in /home/clearbox/.cache/pypoetry/virtualenvs/clearbox-ner-if7onA3Z-py3.11/lib/python3.11/site-packages (from jinja2->spacy<3.6.0,>=3.5.0->en-core-web-lg==3.5.0) (2.1.2)\n",
      "Installing collected packages: en-core-web-lg\n",
      "Successfully installed en-core-web-lg-3.5.0\n",
      "\u001b[38;5;2m✔ Download and installation successful\u001b[0m\n",
      "You can now load the package via spacy.load('en_core_web_lg')\n"
     ]
    },
    {
     "name": "stderr",
     "output_type": "stream",
     "text": [
      "\n",
      "\u001b[1m[\u001b[0m\u001b[34;49mnotice\u001b[0m\u001b[1;39;49m]\u001b[0m\u001b[39;49m A new release of pip is available: \u001b[0m\u001b[31;49m23.0\u001b[0m\u001b[39;49m -> \u001b[0m\u001b[32;49m23.0.1\u001b[0m\n",
      "\u001b[1m[\u001b[0m\u001b[34;49mnotice\u001b[0m\u001b[1;39;49m]\u001b[0m\u001b[39;49m To update, run: \u001b[0m\u001b[32;49mpip install --upgrade pip\u001b[0m\n"
     ]
    }
   ],
   "source": [
    "faker = FakerGenerator(recognizer.dataset, recognizer.dict_global_entities)"
   ]
  },
  {
   "cell_type": "code",
   "execution_count": 8,
   "metadata": {},
   "outputs": [],
   "source": [
    "faker.spacy_model"
   ]
  },
  {
   "cell_type": "code",
   "execution_count": 51,
   "metadata": {},
   "outputs": [],
   "source": [
    "faker.get_columns_with_assigned_entity()"
   ]
  },
  {
   "cell_type": "code",
   "execution_count": 52,
   "metadata": {},
   "outputs": [
    {
     "data": {
      "text/plain": [
       "[['email', 'EMAIL_ADDRESS'],\n",
       " ['city', 'LOCATION'],\n",
       " ['state', 'LOCATION'],\n",
       " ['university', 'ORGANIZATION'],\n",
       " ['zipcode', 'ZIPCODE'],\n",
       " ['phone number', 'PHONE_NUMBER'],\n",
       " ['address', 'ADDRESS'],\n",
       " ['url', 'URL'],\n",
       " ['credit card number', 'CREDIT_CARD_NUMBER'],\n",
       " ['ssn', 'US_SSN'],\n",
       " ['country', 'LOCATION'],\n",
       " ['first_name', 'PERSON'],\n",
       " ['last_name', 'PERSON']]"
      ]
     },
     "execution_count": 52,
     "metadata": {},
     "output_type": "execute_result"
    }
   ],
   "source": [
    "faker.columns_with_assigned_entity"
   ]
  },
  {
   "cell_type": "code",
   "execution_count": 46,
   "metadata": {},
   "outputs": [],
   "source": [
    "faker.get_first_name()\n"
   ]
  },
  {
   "cell_type": "code",
   "execution_count": 47,
   "metadata": {},
   "outputs": [
    {
     "data": {
      "text/html": [
       "<div>\n",
       "<style scoped>\n",
       "    .dataframe tbody tr th:only-of-type {\n",
       "        vertical-align: middle;\n",
       "    }\n",
       "\n",
       "    .dataframe tbody tr th {\n",
       "        vertical-align: top;\n",
       "    }\n",
       "\n",
       "    .dataframe thead th {\n",
       "        text-align: right;\n",
       "    }\n",
       "</style>\n",
       "<table border=\"1\" class=\"dataframe\">\n",
       "  <thead>\n",
       "    <tr style=\"text-align: right;\">\n",
       "      <th></th>\n",
       "      <th>email</th>\n",
       "      <th>city</th>\n",
       "      <th>state</th>\n",
       "      <th>university</th>\n",
       "      <th>zipcode</th>\n",
       "      <th>phone number</th>\n",
       "      <th>address</th>\n",
       "      <th>url</th>\n",
       "      <th>credit_card</th>\n",
       "      <th>ssn</th>\n",
       "      <th>country</th>\n",
       "      <th>first_name</th>\n",
       "      <th>last_name</th>\n",
       "      <th>first_name_gender</th>\n",
       "    </tr>\n",
       "  </thead>\n",
       "  <tbody>\n",
       "    <tr>\n",
       "      <th>2</th>\n",
       "      <td>frank@email.com</td>\n",
       "      <td>Phoenix</td>\n",
       "      <td>Texas</td>\n",
       "      <td>University of California</td>\n",
       "      <td>56178</td>\n",
       "      <td>0987-1234</td>\n",
       "      <td>29, Russel Square</td>\n",
       "      <td>www.pandas.org</td>\n",
       "      <td>0987-6543-2109</td>\n",
       "      <td>498-52-4970</td>\n",
       "      <td>Italy</td>\n",
       "      <td>Brett</td>\n",
       "      <td>Clinton</td>\n",
       "      <td>unknown</td>\n",
       "    </tr>\n",
       "    <tr>\n",
       "      <th>0</th>\n",
       "      <td>John@email.com.</td>\n",
       "      <td>New York</td>\n",
       "      <td>Washigton</td>\n",
       "      <td>University of London</td>\n",
       "      <td>10145</td>\n",
       "      <td>5678-0987</td>\n",
       "      <td>Piazza Gae Aulenti 45</td>\n",
       "      <td>www.levante.com</td>\n",
       "      <td>5467-9765-0987-0000</td>\n",
       "      <td>865-50-6891</td>\n",
       "      <td>United Kingdom</td>\n",
       "      <td>Mary</td>\n",
       "      <td>Bush</td>\n",
       "      <td>female</td>\n",
       "    </tr>\n",
       "    <tr>\n",
       "      <th>1</th>\n",
       "      <td>Snow@email.com</td>\n",
       "      <td>Chicago</td>\n",
       "      <td>Rhode Island</td>\n",
       "      <td>University of Georgia</td>\n",
       "      <td>N11RG</td>\n",
       "      <td>1234-4321</td>\n",
       "      <td>171 Upper Street</td>\n",
       "      <td>www.amazon.it</td>\n",
       "      <td>1234-5678-9101</td>\n",
       "      <td>042-34-8377</td>\n",
       "      <td>Hungary</td>\n",
       "      <td>John</td>\n",
       "      <td>-</td>\n",
       "      <td>male</td>\n",
       "    </tr>\n",
       "  </tbody>\n",
       "</table>\n",
       "</div>"
      ],
      "text/plain": [
       "             email      city         state                university zipcode  \\\n",
       "2  frank@email.com   Phoenix         Texas  University of California   56178   \n",
       "0  John@email.com.  New York     Washigton      University of London   10145   \n",
       "1   Snow@email.com   Chicago  Rhode Island     University of Georgia   N11RG   \n",
       "\n",
       "  phone number                address              url          credit_card  \\\n",
       "2    0987-1234      29, Russel Square   www.pandas.org       0987-6543-2109   \n",
       "0    5678-0987  Piazza Gae Aulenti 45  www.levante.com  5467-9765-0987-0000   \n",
       "1    1234-4321       171 Upper Street    www.amazon.it       1234-5678-9101   \n",
       "\n",
       "           ssn         country first_name last_name first_name_gender  \n",
       "2  498-52-4970           Italy      Brett   Clinton           unknown  \n",
       "0  865-50-6891  United Kingdom       Mary      Bush            female  \n",
       "1  042-34-8377         Hungary       John         -              male  "
      ]
     },
     "execution_count": 47,
     "metadata": {},
     "output_type": "execute_result"
    }
   ],
   "source": [
    "faker.dataset"
   ]
  },
  {
   "cell_type": "code",
   "execution_count": 48,
   "metadata": {},
   "outputs": [
    {
     "data": {
      "text/plain": [
       "True"
      ]
     },
     "execution_count": 48,
     "metadata": {},
     "output_type": "execute_result"
    }
   ],
   "source": [
    "len(faker.dataset['first_name_gender']) > 0"
   ]
  },
  {
   "cell_type": "code",
   "execution_count": null,
   "metadata": {},
   "outputs": [],
   "source": []
  }
 ],
 "metadata": {
  "kernelspec": {
   "display_name": "clearbox-ner-if7onA3Z-py3.11",
   "language": "python",
   "name": "python3"
  },
  "language_info": {
   "codemirror_mode": {
    "name": "ipython",
    "version": 3
   },
   "file_extension": ".py",
   "mimetype": "text/x-python",
   "name": "python",
   "nbconvert_exporter": "python",
   "pygments_lexer": "ipython3",
   "version": "3.11.0"
  },
  "orig_nbformat": 4,
  "vscode": {
   "interpreter": {
    "hash": "cb205a8e39bc3128f5bd1fd63a24129c25439e1349d0cf16364c064612f0cda2"
   }
  }
 },
 "nbformat": 4,
 "nbformat_minor": 2
}
