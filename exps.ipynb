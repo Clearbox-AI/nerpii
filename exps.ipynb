{
 "cells": [
  {
   "cell_type": "code",
   "execution_count": 2,
   "metadata": {},
   "outputs": [],
   "source": [
    "import pandas as pd\n",
    "import numpy as np\n",
    "\n",
    "from named_entity_recognizer import NamedEntityRecognizer"
   ]
  },
  {
   "cell_type": "code",
   "execution_count": null,
   "metadata": {},
   "outputs": [],
   "source": [
    "synth = pd.read_csv('dataset/PersonalInfo.csv')"
   ]
  },
  {
   "cell_type": "code",
   "execution_count": null,
   "metadata": {},
   "outputs": [],
   "source": [
    "synth"
   ]
  },
  {
   "cell_type": "code",
   "execution_count": null,
   "metadata": {},
   "outputs": [],
   "source": [
    "synth.info()"
   ]
  },
  {
   "cell_type": "code",
   "execution_count": null,
   "metadata": {},
   "outputs": [],
   "source": []
  },
  {
   "cell_type": "code",
   "execution_count": null,
   "metadata": {},
   "outputs": [],
   "source": [
    "table_order = pd.read_csv('dataset/table_order.csv')"
   ]
  },
  {
   "cell_type": "code",
   "execution_count": null,
   "metadata": {},
   "outputs": [],
   "source": [
    "recognizer = NamedEntityRecognizer(table_order)"
   ]
  },
  {
   "cell_type": "code",
   "execution_count": null,
   "metadata": {},
   "outputs": [],
   "source": [
    "recognizer.set_presidio_analyzer()"
   ]
  },
  {
   "cell_type": "code",
   "execution_count": null,
   "metadata": {},
   "outputs": [],
   "source": [
    "analyzer = recognizer.presidio_analyzer"
   ]
  },
  {
   "cell_type": "code",
   "execution_count": null,
   "metadata": {},
   "outputs": [],
   "source": [
    "recognizer.assign_entities_manually()"
   ]
  },
  {
   "cell_type": "code",
   "execution_count": null,
   "metadata": {},
   "outputs": [],
   "source": [
    "recognizer.assign_presidio_entities_list()"
   ]
  },
  {
   "cell_type": "code",
   "execution_count": null,
   "metadata": {},
   "outputs": [],
   "source": [
    "recognizer.assign_location_entity()"
   ]
  },
  {
   "cell_type": "code",
   "execution_count": null,
   "metadata": {},
   "outputs": [],
   "source": [
    "recognizer.assign_entities_and_score()"
   ]
  },
  {
   "cell_type": "code",
   "execution_count": null,
   "metadata": {},
   "outputs": [],
   "source": [
    "recognizer.set_model()"
   ]
  },
  {
   "cell_type": "code",
   "execution_count": null,
   "metadata": {},
   "outputs": [],
   "source": [
    "recognizer.assign_model_entities_list()"
   ]
  },
  {
   "cell_type": "code",
   "execution_count": null,
   "metadata": {},
   "outputs": [],
   "source": [
    "recognizer.assign_organization_entity()"
   ]
  },
  {
   "cell_type": "code",
   "execution_count": null,
   "metadata": {},
   "outputs": [],
   "source": [
    "recognizer.dict_global_entities"
   ]
  },
  {
   "cell_type": "code",
   "execution_count": null,
   "metadata": {},
   "outputs": [],
   "source": []
  },
  {
   "cell_type": "code",
   "execution_count": 3,
   "metadata": {},
   "outputs": [],
   "source": [
    "table_order = pd.read_csv('dataset/table_order.csv')"
   ]
  },
  {
   "cell_type": "code",
   "execution_count": 4,
   "metadata": {},
   "outputs": [],
   "source": [
    "recognizer = NamedEntityRecognizer(table_order)"
   ]
  },
  {
   "cell_type": "code",
   "execution_count": 5,
   "metadata": {},
   "outputs": [],
   "source": [
    "recognizer.assign_entities_manually()\n",
    "recognizer.assign_entities_with_presidio()\n",
    "recognizer.assign_organization_entity_with_model()"
   ]
  },
  {
   "cell_type": "code",
   "execution_count": 6,
   "metadata": {},
   "outputs": [
    {
     "data": {
      "text/plain": [
       "{'orderNumber': None,\n",
       " 'productCode': None,\n",
       " 'quantityOrdered': None,\n",
       " 'priceEach': None,\n",
       " 'orderLineNumber': None,\n",
       " 'orderDate': {'entity': 'DATE_TIME', 'confidence_score': 1.0},\n",
       " 'requiredDate': {'entity': 'DATE_TIME', 'confidence_score': 1.0},\n",
       " 'shippedDate': {'entity': 'DATE_TIME', 'confidence_score': 1.0},\n",
       " 'status': None,\n",
       " 'comments': {'entity': 'ORGANIZATION',\n",
       "  'confidence_score': 0.37623762376237624},\n",
       " 'customerNumber': None,\n",
       " 'customerName': {'entity': 'ORGANIZATION',\n",
       "  'confidence_score': 0.17068503635667814},\n",
       " 'contactLastName': {'entity': 'PERSON',\n",
       "  'confidence_score': 0.9230769230769231},\n",
       " 'contactFirstName': {'entity': 'PERSON',\n",
       "  'confidence_score': 0.8672768878718535},\n",
       " 'phone': {'entity': 'PHONE_NUMBER', 'confidence_score': 0.8258258258258259},\n",
       " 'addressLine1': {'entity': 'ADDRESS', 'confidence_score': 0.8643533123028391},\n",
       " 'addressLine2': {'entity': 'ORGANIZATION',\n",
       "  'confidence_score': 0.24489795918367346},\n",
       " 'city': {'entity': 'LOCATION', 'confidence_score': 0.9430523917995444},\n",
       " 'state': {'entity': 'LOCATION', 'confidence_score': 1.0},\n",
       " 'postalCode': ['ZIPCODE', 1.0],\n",
       " 'country': {'entity': 'LOCATION', 'confidence_score': 1.0},\n",
       " 'salesRepEmployeeNumber': None,\n",
       " 'creditLimit': None,\n",
       " 'productName': None,\n",
       " 'productLine': None,\n",
       " 'productScale': None,\n",
       " 'productVendor': {'entity': 'ORGANIZATION',\n",
       "  'confidence_score': 0.1454891994917408},\n",
       " 'productDescription': None,\n",
       " 'quantityInStock': None,\n",
       " 'buyPrice': None,\n",
       " 'MSRP': None}"
      ]
     },
     "execution_count": 6,
     "metadata": {},
     "output_type": "execute_result"
    }
   ],
   "source": [
    "recognizer.dict_global_entities"
   ]
  }
 ],
 "metadata": {
  "kernelspec": {
   "display_name": ".venv",
   "language": "python",
   "name": "python3"
  },
  "language_info": {
   "codemirror_mode": {
    "name": "ipython",
    "version": 3
   },
   "file_extension": ".py",
   "mimetype": "text/x-python",
   "name": "python",
   "nbconvert_exporter": "python",
   "pygments_lexer": "ipython3",
   "version": "3.9.7"
  },
  "orig_nbformat": 4,
  "vscode": {
   "interpreter": {
    "hash": "f37fb02ebd03cb04ecc89cb8351132d30c0b8a95941675dad977fea477def160"
   }
  }
 },
 "nbformat": 4,
 "nbformat_minor": 2
}
