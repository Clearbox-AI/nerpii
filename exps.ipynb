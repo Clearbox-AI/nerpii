{
 "cells": [
  {
   "cell_type": "code",
   "execution_count": 1,
   "metadata": {},
   "outputs": [],
   "source": [
    "import pandas as pd\n",
    "import numpy as np\n",
    "\n",
    "from named_entity_recognizer import NamedEntityRecognizer\n",
    "from faker_generator import FakerGenerator, split_name"
   ]
  },
  {
   "cell_type": "code",
   "execution_count": null,
   "metadata": {},
   "outputs": [],
   "source": [
    "synth = pd.read_csv('dataset/PersonalInfo.csv')"
   ]
  },
  {
   "cell_type": "code",
   "execution_count": null,
   "metadata": {},
   "outputs": [],
   "source": [
    "synth"
   ]
  },
  {
   "cell_type": "code",
   "execution_count": null,
   "metadata": {},
   "outputs": [],
   "source": [
    "synth.info()"
   ]
  },
  {
   "cell_type": "code",
   "execution_count": null,
   "metadata": {},
   "outputs": [],
   "source": []
  },
  {
   "cell_type": "code",
   "execution_count": null,
   "metadata": {},
   "outputs": [],
   "source": [
    "table_order = pd.read_csv('dataset/table_order.csv')"
   ]
  },
  {
   "cell_type": "code",
   "execution_count": null,
   "metadata": {},
   "outputs": [],
   "source": [
    "recognizer = NamedEntityRecognizer(table_order)"
   ]
  },
  {
   "cell_type": "code",
   "execution_count": null,
   "metadata": {},
   "outputs": [],
   "source": [
    "recognizer.set_presidio_analyzer()"
   ]
  },
  {
   "cell_type": "code",
   "execution_count": null,
   "metadata": {},
   "outputs": [],
   "source": [
    "analyzer = recognizer.presidio_analyzer"
   ]
  },
  {
   "cell_type": "code",
   "execution_count": null,
   "metadata": {},
   "outputs": [],
   "source": [
    "recognizer.assign_entities_manually()"
   ]
  },
  {
   "cell_type": "code",
   "execution_count": null,
   "metadata": {},
   "outputs": [],
   "source": [
    "recognizer.assign_presidio_entities_list()"
   ]
  },
  {
   "cell_type": "code",
   "execution_count": null,
   "metadata": {},
   "outputs": [],
   "source": [
    "recognizer.assign_location_entity()"
   ]
  },
  {
   "cell_type": "code",
   "execution_count": null,
   "metadata": {},
   "outputs": [],
   "source": [
    "recognizer.assign_entities_and_score()"
   ]
  },
  {
   "cell_type": "code",
   "execution_count": null,
   "metadata": {},
   "outputs": [],
   "source": [
    "recognizer.set_model()"
   ]
  },
  {
   "cell_type": "code",
   "execution_count": null,
   "metadata": {},
   "outputs": [],
   "source": [
    "recognizer.assign_model_entities_list()"
   ]
  },
  {
   "cell_type": "code",
   "execution_count": null,
   "metadata": {},
   "outputs": [],
   "source": [
    "recognizer.assign_organization_entity()"
   ]
  },
  {
   "cell_type": "code",
   "execution_count": null,
   "metadata": {},
   "outputs": [],
   "source": [
    "recognizer.dict_global_entities"
   ]
  },
  {
   "cell_type": "code",
   "execution_count": null,
   "metadata": {},
   "outputs": [],
   "source": []
  },
  {
   "cell_type": "code",
   "execution_count": 2,
   "metadata": {},
   "outputs": [],
   "source": [
    "table_order = pd.read_csv('dataset/table_order.csv')"
   ]
  },
  {
   "cell_type": "code",
   "execution_count": 3,
   "metadata": {},
   "outputs": [],
   "source": [
    "recognizer = NamedEntityRecognizer(table_order)"
   ]
  },
  {
   "cell_type": "code",
   "execution_count": 4,
   "metadata": {},
   "outputs": [],
   "source": [
    "recognizer.assign_entities_manually()\n",
    "recognizer.assign_entities_with_presidio()\n",
    "recognizer.assign_organization_entity_with_model()"
   ]
  },
  {
   "cell_type": "code",
   "execution_count": 5,
   "metadata": {},
   "outputs": [
    {
     "data": {
      "text/plain": [
       "{'orderNumber': None,\n",
       " 'productCode': None,\n",
       " 'quantityOrdered': None,\n",
       " 'priceEach': None,\n",
       " 'orderLineNumber': None,\n",
       " 'orderDate': {'entity': 'DATE_TIME', 'confidence_score': 1.0},\n",
       " 'requiredDate': {'entity': 'DATE_TIME', 'confidence_score': 1.0},\n",
       " 'shippedDate': {'entity': 'DATE_TIME', 'confidence_score': 1.0},\n",
       " 'status': None,\n",
       " 'comments': {'entity': 'ORGANIZATION',\n",
       "  'confidence_score': 0.33035714285714285},\n",
       " 'customerNumber': None,\n",
       " 'customerName': {'entity': 'ORGANIZATION',\n",
       "  'confidence_score': 0.17022086824067023},\n",
       " 'contactLastName': {'entity': 'PERSON',\n",
       "  'confidence_score': 0.9732824427480916},\n",
       " 'contactFirstName': {'entity': 'PERSON',\n",
       "  'confidence_score': 0.8991228070175439},\n",
       " 'phone': {'entity': 'PHONE_NUMBER', 'confidence_score': 0.8333333333333334},\n",
       " 'addressLine1': {'entity': 'ADDRESS', 'confidence_score': 0.8353658536585366},\n",
       " 'addressLine2': {'entity': 'ORGANIZATION',\n",
       "  'confidence_score': 0.2803738317757009},\n",
       " 'city': {'entity': 'LOCATION', 'confidence_score': 0.9116279069767442},\n",
       " 'state': {'entity': 'ORGANIZATION', 'confidence_score': 0.125},\n",
       " 'postalCode': {'entity': 'ZIPCODE', 'confidence_score': 1.0},\n",
       " 'country': {'entity': 'LOCATION', 'confidence_score': 1.0},\n",
       " 'salesRepEmployeeNumber': None,\n",
       " 'creditLimit': None,\n",
       " 'productName': None,\n",
       " 'productLine': None,\n",
       " 'productScale': None,\n",
       " 'productVendor': {'entity': 'ORGANIZATION',\n",
       "  'confidence_score': 0.14249843063402384},\n",
       " 'productDescription': None,\n",
       " 'quantityInStock': None,\n",
       " 'buyPrice': None,\n",
       " 'MSRP': None}"
      ]
     },
     "execution_count": 5,
     "metadata": {},
     "output_type": "execute_result"
    }
   ],
   "source": [
    "recognizer.dict_global_entities"
   ]
  },
  {
   "cell_type": "code",
   "execution_count": 2,
   "metadata": {},
   "outputs": [],
   "source": [
    "df = pd.DataFrame({\n",
    "    'email': ['John@email.com.', 'Snow@email.com', 'frank@email.com'],\n",
    "    'city': [\"New York\", \"Chicago\", \"Phoenix\"],\n",
    "    'state': ['Washigton', 'Rhode Island', 'Texas'],\n",
    "    'university': ['University of London', 'University of Georgia', 'University of California'],\n",
    "    'person': ['George Bush', None, 'Hillary Clinton'],\n",
    "    'zipcode': ['10145', 'N11RG', '56178'],\n",
    "    'phone number': ['5678-0987', '1234-4321', '0987-1234'],\n",
    "    'address': ['Piazza Gae Aulenti 45', '171 Upper Street', '29, Russel Square'],\n",
    "    'url': ['www.levante.com', 'www.amazon.it', 'www.pandas.org'],\n",
    "    'credit card number': ['5467-9765-0987-0000', '1234-5678-9101', '0987-6543-2109'],\n",
    "    'ssn': ['865-50-6891', '042-34-8377', '498-52-4970'],\n",
    "    'country': ['United Kingdom', 'Hungary', 'Italy']\n",
    "    })\n"
   ]
  },
  {
   "cell_type": "code",
   "execution_count": 3,
   "metadata": {},
   "outputs": [],
   "source": [
    "df = split_name(df, 'person')"
   ]
  },
  {
   "cell_type": "code",
   "execution_count": 4,
   "metadata": {},
   "outputs": [],
   "source": [
    "recognizer = NamedEntityRecognizer(df)"
   ]
  },
  {
   "cell_type": "code",
   "execution_count": 12,
   "metadata": {},
   "outputs": [
    {
     "ename": "AttributeError",
     "evalue": "'dict' object has no attribute 'count'",
     "output_type": "error",
     "traceback": [
      "\u001b[0;31m---------------------------------------------------------------------------\u001b[0m",
      "\u001b[0;31mAttributeError\u001b[0m                            Traceback (most recent call last)",
      "Cell \u001b[0;32mIn[12], line 2\u001b[0m\n\u001b[1;32m      1\u001b[0m recognizer\u001b[39m.\u001b[39massign_entities_manually()\n\u001b[0;32m----> 2\u001b[0m recognizer\u001b[39m.\u001b[39;49massign_entities_with_presidio()\n\u001b[1;32m      3\u001b[0m recognizer\u001b[39m.\u001b[39massign_organization_entity_with_model()\n",
      "File \u001b[0;32m~/Documents/clearbox_repo/clearbox-ner/named_entity_recognizer.py:264\u001b[0m, in \u001b[0;36mNamedEntityRecognizer.assign_entities_with_presidio\u001b[0;34m(self)\u001b[0m\n\u001b[1;32m    262\u001b[0m \u001b[39mself\u001b[39m\u001b[39m.\u001b[39mset_presidio_analyzer()\n\u001b[1;32m    263\u001b[0m \u001b[39mself\u001b[39m\u001b[39m.\u001b[39massign_presidio_entities_list()\n\u001b[0;32m--> 264\u001b[0m \u001b[39mself\u001b[39;49m\u001b[39m.\u001b[39;49massign_location_entity()\n\u001b[1;32m    265\u001b[0m \u001b[39mself\u001b[39m\u001b[39m.\u001b[39massign_entities_and_score()\n",
      "File \u001b[0;32m~/Documents/clearbox_repo/clearbox-ner/named_entity_recognizer.py:199\u001b[0m, in \u001b[0;36mNamedEntityRecognizer.assign_location_entity\u001b[0;34m(self)\u001b[0m\n\u001b[1;32m    197\u001b[0m entities_list \u001b[39m=\u001b[39m \u001b[39mself\u001b[39m\u001b[39m.\u001b[39mdict_global_entities[col]\n\u001b[1;32m    198\u001b[0m col_lower \u001b[39m=\u001b[39m col\u001b[39m.\u001b[39mlower() \n\u001b[0;32m--> 199\u001b[0m location_freq \u001b[39m=\u001b[39m frequency(entities_list, \u001b[39m\"\u001b[39;49m\u001b[39mLOCATION\u001b[39;49m\u001b[39m\"\u001b[39;49m)\n\u001b[1;32m    200\u001b[0m \u001b[39mif\u001b[39;00m (\u001b[39m'\u001b[39m\u001b[39mLOCATION\u001b[39m\u001b[39m'\u001b[39m \u001b[39min\u001b[39;00m entities_list) \u001b[39mand\u001b[39;00m (\u001b[39m'\u001b[39m\u001b[39mname\u001b[39m\u001b[39m'\u001b[39m \u001b[39mnot\u001b[39;00m \u001b[39min\u001b[39;00m col_lower) \u001b[39mand\u001b[39;00m location_freq \u001b[39m>\u001b[39m \u001b[39m0.1\u001b[39m:\n\u001b[1;32m    201\u001b[0m     \u001b[39mself\u001b[39m\u001b[39m.\u001b[39mdict_global_entities[col] \u001b[39m=\u001b[39m {\u001b[39m'\u001b[39m\u001b[39mentity\u001b[39m\u001b[39m'\u001b[39m: \u001b[39m'\u001b[39m\u001b[39mLOCATION\u001b[39m\u001b[39m'\u001b[39m, \u001b[39m'\u001b[39m\u001b[39mconfidence_score\u001b[39m\u001b[39m'\u001b[39m: location_freq}\n",
      "File \u001b[0;32m~/Documents/clearbox_repo/clearbox-ner/named_entity_recognizer.py:25\u001b[0m, in \u001b[0;36mfrequency\u001b[0;34m(values, element)\u001b[0m\n\u001b[1;32m      9\u001b[0m \u001b[39mdef\u001b[39;00m \u001b[39mfrequency\u001b[39m(values: List, element: Any) \u001b[39m-\u001b[39m\u001b[39m>\u001b[39m \u001b[39mfloat\u001b[39m:\n\u001b[1;32m     10\u001b[0m \u001b[39m    \u001b[39m\u001b[39m\"\"\"\u001b[39;00m\n\u001b[1;32m     11\u001b[0m \u001b[39m    Calculate the frequency of an element in a list of values.\u001b[39;00m\n\u001b[1;32m     12\u001b[0m \u001b[39m    \u001b[39;00m\n\u001b[0;32m   (...)\u001b[0m\n\u001b[1;32m     23\u001b[0m \u001b[39m        Frequency of the element in the list.\u001b[39;00m\n\u001b[1;32m     24\u001b[0m \u001b[39m    \"\"\"\u001b[39;00m\n\u001b[0;32m---> 25\u001b[0m     \u001b[39mreturn\u001b[39;00m values\u001b[39m.\u001b[39;49mcount(element) \u001b[39m/\u001b[39m \u001b[39mlen\u001b[39m(values) \u001b[39mif\u001b[39;00m \u001b[39mlen\u001b[39m(values) \u001b[39melse\u001b[39;00m \u001b[39m0\u001b[39m\n",
      "\u001b[0;31mAttributeError\u001b[0m: 'dict' object has no attribute 'count'"
     ]
    }
   ],
   "source": [
    "recognizer.assign_entities_manually()\n",
    "recognizer.assign_entities_with_presidio()\n",
    "recognizer.assign_organization_entity_with_model()"
   ]
  },
  {
   "cell_type": "code",
   "execution_count": 10,
   "metadata": {},
   "outputs": [
    {
     "data": {
      "text/plain": [
       "{'email': {'entity': 'EMAIL_ADDRESS', 'confidence_score': 1.0},\n",
       " 'city': {'entity': 'LOCATION', 'confidence_score': 1.0},\n",
       " 'state': {'entity': 'LOCATION', 'confidence_score': 1.0},\n",
       " 'university': {'entity': 'ORGANIZATION',\n",
       "  'confidence_score': 0.3333333333333333},\n",
       " 'zipcode': {'entity': 'ZIPCODE', 'confidence_score': 1.0},\n",
       " 'phone number': {'entity': 'PHONE_NUMBER', 'confidence_score': 1.0},\n",
       " 'address': {'entity': 'ADDRESS', 'confidence_score': 1.0},\n",
       " 'url': {'entity': 'URL', 'confidence_score': 1.0},\n",
       " 'credit card number': {'entity': 'CREDIT_CARD_NUMBER',\n",
       "  'confidence_score': 1.0},\n",
       " 'ssn': {'entity': 'US_SSN', 'confidence_score': 1.0},\n",
       " 'country': {'entity': 'LOCATION', 'confidence_score': 1.0},\n",
       " 'first_name': {'entity': 'PERSON', 'confidence_score': 1.0},\n",
       " 'last_name': {'entity': 'PERSON', 'confidence_score': 1.0}}"
      ]
     },
     "execution_count": 10,
     "metadata": {},
     "output_type": "execute_result"
    }
   ],
   "source": [
    "recognizer.dict_global_entities"
   ]
  },
  {
   "cell_type": "code",
   "execution_count": 42,
   "metadata": {},
   "outputs": [
    {
     "data": {
      "text/html": [
       "<div>\n",
       "<style scoped>\n",
       "    .dataframe tbody tr th:only-of-type {\n",
       "        vertical-align: middle;\n",
       "    }\n",
       "\n",
       "    .dataframe tbody tr th {\n",
       "        vertical-align: top;\n",
       "    }\n",
       "\n",
       "    .dataframe thead th {\n",
       "        text-align: right;\n",
       "    }\n",
       "</style>\n",
       "<table border=\"1\" class=\"dataframe\">\n",
       "  <thead>\n",
       "    <tr style=\"text-align: right;\">\n",
       "      <th></th>\n",
       "      <th>email</th>\n",
       "      <th>city</th>\n",
       "      <th>state</th>\n",
       "      <th>university</th>\n",
       "      <th>zipcode</th>\n",
       "      <th>phone number</th>\n",
       "      <th>address</th>\n",
       "      <th>url</th>\n",
       "      <th>credit_card</th>\n",
       "      <th>ssn</th>\n",
       "      <th>country</th>\n",
       "      <th>first_name</th>\n",
       "      <th>last_name</th>\n",
       "    </tr>\n",
       "  </thead>\n",
       "  <tbody>\n",
       "    <tr>\n",
       "      <th>2</th>\n",
       "      <td>frank@email.com</td>\n",
       "      <td>Phoenix</td>\n",
       "      <td>Texas</td>\n",
       "      <td>University of California</td>\n",
       "      <td>56178</td>\n",
       "      <td>0987-1234</td>\n",
       "      <td>29, Russel Square</td>\n",
       "      <td>www.pandas.org</td>\n",
       "      <td>0987-6543-2109</td>\n",
       "      <td>498-52-4970</td>\n",
       "      <td>Italy</td>\n",
       "      <td>Hillary</td>\n",
       "      <td>Clinton</td>\n",
       "    </tr>\n",
       "    <tr>\n",
       "      <th>0</th>\n",
       "      <td>John@email.com.</td>\n",
       "      <td>New York</td>\n",
       "      <td>Washigton</td>\n",
       "      <td>University of London</td>\n",
       "      <td>10145</td>\n",
       "      <td>5678-0987</td>\n",
       "      <td>Piazza Gae Aulenti 45</td>\n",
       "      <td>www.levante.com</td>\n",
       "      <td>5467-9765-0987-0000</td>\n",
       "      <td>865-50-6891</td>\n",
       "      <td>United Kingdom</td>\n",
       "      <td>George</td>\n",
       "      <td>Bush</td>\n",
       "    </tr>\n",
       "    <tr>\n",
       "      <th>1</th>\n",
       "      <td>Snow@email.com</td>\n",
       "      <td>Chicago</td>\n",
       "      <td>Rhode Island</td>\n",
       "      <td>University of Georgia</td>\n",
       "      <td>N11RG</td>\n",
       "      <td>1234-4321</td>\n",
       "      <td>171 Upper Street</td>\n",
       "      <td>www.amazon.it</td>\n",
       "      <td>1234-5678-9101</td>\n",
       "      <td>042-34-8377</td>\n",
       "      <td>Hungary</td>\n",
       "      <td>-</td>\n",
       "      <td>-</td>\n",
       "    </tr>\n",
       "  </tbody>\n",
       "</table>\n",
       "</div>"
      ],
      "text/plain": [
       "             email      city         state                university zipcode  \\\n",
       "2  frank@email.com   Phoenix         Texas  University of California   56178   \n",
       "0  John@email.com.  New York     Washigton      University of London   10145   \n",
       "1   Snow@email.com   Chicago  Rhode Island     University of Georgia   N11RG   \n",
       "\n",
       "  phone number                address              url          credit_card  \\\n",
       "2    0987-1234      29, Russel Square   www.pandas.org       0987-6543-2109   \n",
       "0    5678-0987  Piazza Gae Aulenti 45  www.levante.com  5467-9765-0987-0000   \n",
       "1    1234-4321       171 Upper Street    www.amazon.it       1234-5678-9101   \n",
       "\n",
       "           ssn         country first_name last_name  \n",
       "2  498-52-4970           Italy    Hillary   Clinton  \n",
       "0  865-50-6891  United Kingdom     George      Bush  \n",
       "1  042-34-8377         Hungary          -         -  "
      ]
     },
     "execution_count": 42,
     "metadata": {},
     "output_type": "execute_result"
    }
   ],
   "source": [
    "recognizer.dataset\n"
   ]
  },
  {
   "cell_type": "code",
   "execution_count": 43,
   "metadata": {},
   "outputs": [],
   "source": [
    "faker = FakerGenerator(recognizer.dataset, recognizer.dict_global_entities)"
   ]
  },
  {
   "cell_type": "code",
   "execution_count": 44,
   "metadata": {},
   "outputs": [],
   "source": [
    "faker.get_columns_with_assigned_entity()"
   ]
  },
  {
   "cell_type": "code",
   "execution_count": 45,
   "metadata": {},
   "outputs": [
    {
     "data": {
      "text/plain": [
       "[['email', 'EMAIL_ADDRESS'],\n",
       " ['city', 'LOCATION'],\n",
       " ['state', 'LOCATION'],\n",
       " ['university', 'ORGANIZATION'],\n",
       " ['zipcode', 'ZIPCODE'],\n",
       " ['phone number', 'PHONE_NUMBER'],\n",
       " ['address', 'ADDRESS'],\n",
       " ['url', 'URL'],\n",
       " ['credit_card', 'PHONE_NUMBER'],\n",
       " ['ssn', 'US_SSN'],\n",
       " ['country', 'LOCATION'],\n",
       " ['first_name', 'PERSON'],\n",
       " ['last_name', 'PERSON']]"
      ]
     },
     "execution_count": 45,
     "metadata": {},
     "output_type": "execute_result"
    }
   ],
   "source": [
    "faker.columns_with_assigned_entity"
   ]
  },
  {
   "cell_type": "code",
   "execution_count": 46,
   "metadata": {},
   "outputs": [],
   "source": [
    "faker.get_first_name()\n"
   ]
  },
  {
   "cell_type": "code",
   "execution_count": 47,
   "metadata": {},
   "outputs": [
    {
     "data": {
      "text/html": [
       "<div>\n",
       "<style scoped>\n",
       "    .dataframe tbody tr th:only-of-type {\n",
       "        vertical-align: middle;\n",
       "    }\n",
       "\n",
       "    .dataframe tbody tr th {\n",
       "        vertical-align: top;\n",
       "    }\n",
       "\n",
       "    .dataframe thead th {\n",
       "        text-align: right;\n",
       "    }\n",
       "</style>\n",
       "<table border=\"1\" class=\"dataframe\">\n",
       "  <thead>\n",
       "    <tr style=\"text-align: right;\">\n",
       "      <th></th>\n",
       "      <th>email</th>\n",
       "      <th>city</th>\n",
       "      <th>state</th>\n",
       "      <th>university</th>\n",
       "      <th>zipcode</th>\n",
       "      <th>phone number</th>\n",
       "      <th>address</th>\n",
       "      <th>url</th>\n",
       "      <th>credit_card</th>\n",
       "      <th>ssn</th>\n",
       "      <th>country</th>\n",
       "      <th>first_name</th>\n",
       "      <th>last_name</th>\n",
       "      <th>first_name_gender</th>\n",
       "    </tr>\n",
       "  </thead>\n",
       "  <tbody>\n",
       "    <tr>\n",
       "      <th>2</th>\n",
       "      <td>frank@email.com</td>\n",
       "      <td>Phoenix</td>\n",
       "      <td>Texas</td>\n",
       "      <td>University of California</td>\n",
       "      <td>56178</td>\n",
       "      <td>0987-1234</td>\n",
       "      <td>29, Russel Square</td>\n",
       "      <td>www.pandas.org</td>\n",
       "      <td>0987-6543-2109</td>\n",
       "      <td>498-52-4970</td>\n",
       "      <td>Italy</td>\n",
       "      <td>Brett</td>\n",
       "      <td>Clinton</td>\n",
       "      <td>unknown</td>\n",
       "    </tr>\n",
       "    <tr>\n",
       "      <th>0</th>\n",
       "      <td>John@email.com.</td>\n",
       "      <td>New York</td>\n",
       "      <td>Washigton</td>\n",
       "      <td>University of London</td>\n",
       "      <td>10145</td>\n",
       "      <td>5678-0987</td>\n",
       "      <td>Piazza Gae Aulenti 45</td>\n",
       "      <td>www.levante.com</td>\n",
       "      <td>5467-9765-0987-0000</td>\n",
       "      <td>865-50-6891</td>\n",
       "      <td>United Kingdom</td>\n",
       "      <td>Mary</td>\n",
       "      <td>Bush</td>\n",
       "      <td>female</td>\n",
       "    </tr>\n",
       "    <tr>\n",
       "      <th>1</th>\n",
       "      <td>Snow@email.com</td>\n",
       "      <td>Chicago</td>\n",
       "      <td>Rhode Island</td>\n",
       "      <td>University of Georgia</td>\n",
       "      <td>N11RG</td>\n",
       "      <td>1234-4321</td>\n",
       "      <td>171 Upper Street</td>\n",
       "      <td>www.amazon.it</td>\n",
       "      <td>1234-5678-9101</td>\n",
       "      <td>042-34-8377</td>\n",
       "      <td>Hungary</td>\n",
       "      <td>John</td>\n",
       "      <td>-</td>\n",
       "      <td>male</td>\n",
       "    </tr>\n",
       "  </tbody>\n",
       "</table>\n",
       "</div>"
      ],
      "text/plain": [
       "             email      city         state                university zipcode  \\\n",
       "2  frank@email.com   Phoenix         Texas  University of California   56178   \n",
       "0  John@email.com.  New York     Washigton      University of London   10145   \n",
       "1   Snow@email.com   Chicago  Rhode Island     University of Georgia   N11RG   \n",
       "\n",
       "  phone number                address              url          credit_card  \\\n",
       "2    0987-1234      29, Russel Square   www.pandas.org       0987-6543-2109   \n",
       "0    5678-0987  Piazza Gae Aulenti 45  www.levante.com  5467-9765-0987-0000   \n",
       "1    1234-4321       171 Upper Street    www.amazon.it       1234-5678-9101   \n",
       "\n",
       "           ssn         country first_name last_name first_name_gender  \n",
       "2  498-52-4970           Italy      Brett   Clinton           unknown  \n",
       "0  865-50-6891  United Kingdom       Mary      Bush            female  \n",
       "1  042-34-8377         Hungary       John         -              male  "
      ]
     },
     "execution_count": 47,
     "metadata": {},
     "output_type": "execute_result"
    }
   ],
   "source": [
    "faker.dataset"
   ]
  },
  {
   "cell_type": "code",
   "execution_count": 48,
   "metadata": {},
   "outputs": [
    {
     "data": {
      "text/plain": [
       "True"
      ]
     },
     "execution_count": 48,
     "metadata": {},
     "output_type": "execute_result"
    }
   ],
   "source": [
    "len(faker.dataset['first_name_gender']) > 0"
   ]
  },
  {
   "cell_type": "code",
   "execution_count": null,
   "metadata": {},
   "outputs": [],
   "source": []
  }
 ],
 "metadata": {
  "kernelspec": {
   "display_name": "Python 3",
   "language": "python",
   "name": "python3"
  },
  "language_info": {
   "codemirror_mode": {
    "name": "ipython",
    "version": 3
   },
   "file_extension": ".py",
   "mimetype": "text/x-python",
   "name": "python",
   "nbconvert_exporter": "python",
   "pygments_lexer": "ipython3",
   "version": "3.11.0"
  },
  "orig_nbformat": 4,
  "vscode": {
   "interpreter": {
    "hash": "0e0464acb1f9e5332cbae5b21bd1a7e15a1152475e1a318e6b4dd71e1a8f69bb"
   }
  }
 },
 "nbformat": 4,
 "nbformat_minor": 2
}
